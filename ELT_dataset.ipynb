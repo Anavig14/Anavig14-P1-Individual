{
 "cells": [
  {
   "cell_type": "markdown",
   "metadata": {},
   "source": [
    "# EXTRACCION, TRANSFORMACIÓN Y LIMPIEZA \n",
    "\n",
    "## Base de datos: Movies"
   ]
  },
  {
   "cell_type": "markdown",
   "metadata": {},
   "source": [
    "Se utiliza la libreria de pandas para dar inicio a la estracción y tratamiento de los datos."
   ]
  },
  {
   "cell_type": "code",
   "execution_count": 2,
   "metadata": {},
   "outputs": [],
   "source": [
    "import pandas as pd\n",
    "import numpy as np\n",
    "import json\n",
    "import ast\n",
    "import os"
   ]
  },
  {
   "cell_type": "markdown",
   "metadata": {},
   "source": [
    "Inicio la extracción, primero del detaset \"movies\" y luego del dataset \"credits\" para despues unirlos. "
   ]
  },
  {
   "cell_type": "code",
   "execution_count": 91,
   "metadata": {},
   "outputs": [
    {
     "name": "stderr",
     "output_type": "stream",
     "text": [
      "C:\\Users\\anavi\\AppData\\Local\\Temp\\ipykernel_16820\\131553651.py:2: DtypeWarning: Columns (10) have mixed types. Specify dtype option on import or set low_memory=False.\n",
      "  df_movies = pd.read_csv('C:\\\\Users\\\\anavi\\\\OneDrive\\\\Escritorio\\\\Henry\\\\P1 individual\\\\Dataset original\\\\movies_dataset.csv')\n"
     ]
    },
    {
     "data": {
      "text/plain": [
       "(45466, 24)"
      ]
     },
     "execution_count": 91,
     "metadata": {},
     "output_type": "execute_result"
    }
   ],
   "source": [
    "# Extraigo el dataset \"movies\" y reviso el tamaño\n",
    "df_movies = pd.read_csv('C:\\\\Users\\\\anavi\\\\OneDrive\\\\Escritorio\\\\Henry\\\\P1 individual\\\\Dataset original\\\\movies_dataset.csv')\n",
    "df_movies.shape"
   ]
  },
  {
   "cell_type": "code",
   "execution_count": 92,
   "metadata": {},
   "outputs": [
    {
     "data": {
      "text/plain": [
       "(45476, 3)"
      ]
     },
     "execution_count": 92,
     "metadata": {},
     "output_type": "execute_result"
    }
   ],
   "source": [
    "# Extraigo los dataset \"credits\" y reviso el tamaño\n",
    "df_credits = pd.read_csv('C:\\\\Users\\\\anavi\\\\OneDrive\\\\Escritorio\\\\Henry\\\\P1 individual\\\\Dataset original\\\\credits.csv')\n",
    "df_credits.shape"
   ]
  },
  {
   "cell_type": "code",
   "execution_count": 93,
   "metadata": {},
   "outputs": [
    {
     "name": "stdout",
     "output_type": "stream",
     "text": [
      "Tamaño movies: 32.85 MB y tamaño credits: 181.12 MB\n"
     ]
    }
   ],
   "source": [
    "# Quiero saber el tamaño de mi dataset para reducirlo hasta llegar a 100 megas\n",
    "tamaño1 = os.path.getsize('C:\\\\Users\\\\anavi\\\\OneDrive\\\\Escritorio\\\\Henry\\\\P1 individual\\\\Dataset original\\\\movies_dataset.csv')\n",
    "tamaño2 = os.path.getsize('C:\\\\Users\\\\anavi\\\\OneDrive\\\\Escritorio\\\\Henry\\\\P1 individual\\\\Dataset original\\\\credits.csv')\n",
    "\n",
    "print(f\"Tamaño movies: {tamaño1 / (1024 * 1024):.2f} MB y tamaño credits: {tamaño2 / (1024 * 1024):.2f} MB\")"
   ]
  },
  {
   "cell_type": "markdown",
   "metadata": {},
   "source": [
    "Como veo que el dataset credits es mucho más grande que el dataset movies entonces empiezo limpiandolo para reducirlo al máximo."
   ]
  },
  {
   "cell_type": "code",
   "execution_count": 94,
   "metadata": {},
   "outputs": [
    {
     "data": {
      "text/plain": [
       "(73, 3)"
      ]
     },
     "execution_count": 94,
     "metadata": {},
     "output_type": "execute_result"
    }
   ],
   "source": [
    "df_credits[df_credits.duplicated(keep=False)].shape # Verifico si hay datos duplicados para eliminarlos posteriormente"
   ]
  },
  {
   "cell_type": "code",
   "execution_count": 95,
   "metadata": {},
   "outputs": [
    {
     "name": "stdout",
     "output_type": "stream",
     "text": [
      "El tamaño del dataset es de 256.51 MB.\n"
     ]
    }
   ],
   "source": [
    "tamaño_en_bytes = df_credits.memory_usage(deep=True).sum()\n",
    "\n",
    "# Convertir a megabytes\n",
    "tamaño_en_megabytes = tamaño_en_bytes / (1024 ** 2)\n",
    "\n",
    "print(f\"El tamaño del dataset es de {tamaño_en_megabytes:.2f} MB.\")"
   ]
  },
  {
   "cell_type": "code",
   "execution_count": 96,
   "metadata": {},
   "outputs": [
    {
     "data": {
      "text/plain": [
       "(0, 3)"
      ]
     },
     "execution_count": 96,
     "metadata": {},
     "output_type": "execute_result"
    }
   ],
   "source": [
    "df_credits = df_credits.drop_duplicates() # Elimino los datos duplicados en mi dataset original\n",
    "df_credits[df_credits.duplicated(keep=False)].shape #Verifico que hayan quedado eliminados"
   ]
  },
  {
   "cell_type": "code",
   "execution_count": 97,
   "metadata": {},
   "outputs": [
    {
     "data": {
      "text/plain": [
       "Index(['cast', 'crew', 'id'], dtype='object')"
      ]
     },
     "execution_count": 97,
     "metadata": {},
     "output_type": "execute_result"
    }
   ],
   "source": [
    "df_credits.columns # Verifico que columnas existen en mi data set"
   ]
  },
  {
   "cell_type": "code",
   "execution_count": 98,
   "metadata": {},
   "outputs": [
    {
     "data": {
      "text/html": [
       "<div>\n",
       "<style scoped>\n",
       "    .dataframe tbody tr th:only-of-type {\n",
       "        vertical-align: middle;\n",
       "    }\n",
       "\n",
       "    .dataframe tbody tr th {\n",
       "        vertical-align: top;\n",
       "    }\n",
       "\n",
       "    .dataframe thead th {\n",
       "        text-align: right;\n",
       "    }\n",
       "</style>\n",
       "<table border=\"1\" class=\"dataframe\">\n",
       "  <thead>\n",
       "    <tr style=\"text-align: right;\">\n",
       "      <th></th>\n",
       "      <th>cast</th>\n",
       "      <th>crew</th>\n",
       "      <th>id</th>\n",
       "    </tr>\n",
       "  </thead>\n",
       "  <tbody>\n",
       "    <tr>\n",
       "      <th>0</th>\n",
       "      <td>[{'cast_id': 14, 'character': 'Woody (voice)',...</td>\n",
       "      <td>[{'credit_id': '52fe4284c3a36847f8024f49', 'de...</td>\n",
       "      <td>862</td>\n",
       "    </tr>\n",
       "    <tr>\n",
       "      <th>1</th>\n",
       "      <td>[{'cast_id': 1, 'character': 'Alan Parrish', '...</td>\n",
       "      <td>[{'credit_id': '52fe44bfc3a36847f80a7cd1', 'de...</td>\n",
       "      <td>8844</td>\n",
       "    </tr>\n",
       "    <tr>\n",
       "      <th>2</th>\n",
       "      <td>[{'cast_id': 2, 'character': 'Max Goldman', 'c...</td>\n",
       "      <td>[{'credit_id': '52fe466a9251416c75077a89', 'de...</td>\n",
       "      <td>15602</td>\n",
       "    </tr>\n",
       "    <tr>\n",
       "      <th>3</th>\n",
       "      <td>[{'cast_id': 1, 'character': \"Savannah 'Vannah...</td>\n",
       "      <td>[{'credit_id': '52fe44779251416c91011acb', 'de...</td>\n",
       "      <td>31357</td>\n",
       "    </tr>\n",
       "    <tr>\n",
       "      <th>4</th>\n",
       "      <td>[{'cast_id': 1, 'character': 'George Banks', '...</td>\n",
       "      <td>[{'credit_id': '52fe44959251416c75039ed7', 'de...</td>\n",
       "      <td>11862</td>\n",
       "    </tr>\n",
       "  </tbody>\n",
       "</table>\n",
       "</div>"
      ],
      "text/plain": [
       "                                                cast  \\\n",
       "0  [{'cast_id': 14, 'character': 'Woody (voice)',...   \n",
       "1  [{'cast_id': 1, 'character': 'Alan Parrish', '...   \n",
       "2  [{'cast_id': 2, 'character': 'Max Goldman', 'c...   \n",
       "3  [{'cast_id': 1, 'character': \"Savannah 'Vannah...   \n",
       "4  [{'cast_id': 1, 'character': 'George Banks', '...   \n",
       "\n",
       "                                                crew     id  \n",
       "0  [{'credit_id': '52fe4284c3a36847f8024f49', 'de...    862  \n",
       "1  [{'credit_id': '52fe44bfc3a36847f80a7cd1', 'de...   8844  \n",
       "2  [{'credit_id': '52fe466a9251416c75077a89', 'de...  15602  \n",
       "3  [{'credit_id': '52fe44779251416c91011acb', 'de...  31357  \n",
       "4  [{'credit_id': '52fe44959251416c75039ed7', 'de...  11862  "
      ]
     },
     "execution_count": 98,
     "metadata": {},
     "output_type": "execute_result"
    }
   ],
   "source": [
    "df_credits.head()"
   ]
  },
  {
   "cell_type": "markdown",
   "metadata": {},
   "source": [
    "Mi dataset tiene dos columas. La primera contiene el elenco \"cast\" y la segunda contiene los nombres del equipo \"crew\". Voy a empezar por depurar la columna \"cast\" y dejar unicamente 5 actores principales, respetando el orden en el que vienen."
   ]
  },
  {
   "cell_type": "code",
   "execution_count": 99,
   "metadata": {},
   "outputs": [
    {
     "data": {
      "text/plain": [
       "str"
      ]
     },
     "execution_count": 99,
     "metadata": {},
     "output_type": "execute_result"
    }
   ],
   "source": [
    "type(df_credits['cast'][0]) # se verifica el tipo de datos, deben ser listas o dicccionarios para poder normalizarlos"
   ]
  },
  {
   "cell_type": "code",
   "execution_count": 100,
   "metadata": {},
   "outputs": [
    {
     "data": {
      "text/plain": [
       "list"
      ]
     },
     "execution_count": 100,
     "metadata": {},
     "output_type": "execute_result"
    }
   ],
   "source": [
    "#Se convierte el tipo de datos de String a Diccionario o lista\n",
    "\n",
    "def convertir_a_diccionario(cadena):\n",
    "    try:\n",
    "        return ast.literal_eval(cadena)\n",
    "    except (ValueError, SyntaxError):\n",
    "        return None  # O cualquier valor predeterminado para manejar errores\n",
    "\n",
    "# Aplicar la conversión a la columna\n",
    "df_credits['cast'] = df_credits['cast'].apply(convertir_a_diccionario)\n",
    "\n",
    "type(df_credits['cast'][0])"
   ]
  },
  {
   "cell_type": "code",
   "execution_count": 101,
   "metadata": {},
   "outputs": [
    {
     "data": {
      "text/plain": [
       "array([<class 'list'>], dtype=object)"
      ]
     },
     "execution_count": 101,
     "metadata": {},
     "output_type": "execute_result"
    }
   ],
   "source": [
    "# Se muestran los tipos de datos únicos en la columnas\n",
    "\n",
    "df_credits['cast'].apply(type).unique()"
   ]
  },
  {
   "cell_type": "code",
   "execution_count": 122,
   "metadata": {},
   "outputs": [],
   "source": [
    "# Crear la función normalize_entry para procesar y normalizar diferentes tipos de datos en una entrada dentro de un DataFrame (diccionarios y listas de diccionarios)\n",
    "def normalize_entry(entry):\n",
    "    if isinstance(entry, dict):\n",
    "        return pd.json_normalize(entry)\n",
    "    elif isinstance(entry, list) and all(isinstance(i, dict) for i in entry):\n",
    "        return pd.json_normalize(entry)\n",
    "    else:\n",
    "        return pd.DataFrame()  # Retorna un DataFrame vacío para valores que no son diccionarios ni listas de diccionarios\n",
    "\n",
    "# Se crea una lista para almacenar los DataFrames expandidos\n",
    "expanded_dfs = []\n",
    "\n",
    "# Iterar sobre cada fila del DataFrame original\n",
    "for idx, row in df_credits.iterrows():\n",
    "    entry = row['cast']\n",
    "    normalized_df = normalize_entry(entry)\n",
    "    normalized_df['id'] = row['id']  # Añadir la columna 'id'\n",
    "    normalized_df['order'] = range(1, len(normalized_df) + 1)  # Añadir la columna 'order'\n",
    "    expanded_dfs.append(normalized_df)\n",
    "\n",
    "# Concatenar todos los DataFrames expandidos en uno solo\n",
    "df_cast = pd.concat(expanded_dfs, ignore_index=True)"
   ]
  },
  {
   "cell_type": "code",
   "execution_count": 123,
   "metadata": {},
   "outputs": [
    {
     "data": {
      "text/plain": [
       "Index(['cast_id', 'character', 'credit_id', 'gender', 'id', 'name', 'order',\n",
       "       'profile_path'],\n",
       "      dtype='object')"
      ]
     },
     "execution_count": 123,
     "metadata": {},
     "output_type": "execute_result"
    }
   ],
   "source": [
    "df_cast.columns #Para verificar las columnas existentes en el nuevo data frame"
   ]
  },
  {
   "cell_type": "code",
   "execution_count": 124,
   "metadata": {},
   "outputs": [
    {
     "data": {
      "text/plain": [
       "(562132, 8)"
      ]
     },
     "execution_count": 124,
     "metadata": {},
     "output_type": "execute_result"
    }
   ],
   "source": [
    "df_cast.shape #Para verificar el tamaño del nuevo data frame"
   ]
  },
  {
   "cell_type": "code",
   "execution_count": 125,
   "metadata": {},
   "outputs": [],
   "source": [
    "df_cast = df_cast[df_cast['order'].between(1, 5)] # Filtrar los primeros 5 actores y eliminar el resto"
   ]
  },
  {
   "cell_type": "code",
   "execution_count": 126,
   "metadata": {},
   "outputs": [
    {
     "data": {
      "text/html": [
       "<div>\n",
       "<style scoped>\n",
       "    .dataframe tbody tr th:only-of-type {\n",
       "        vertical-align: middle;\n",
       "    }\n",
       "\n",
       "    .dataframe tbody tr th {\n",
       "        vertical-align: top;\n",
       "    }\n",
       "\n",
       "    .dataframe thead th {\n",
       "        text-align: right;\n",
       "    }\n",
       "</style>\n",
       "<table border=\"1\" class=\"dataframe\">\n",
       "  <thead>\n",
       "    <tr style=\"text-align: right;\">\n",
       "      <th></th>\n",
       "      <th>cast_id</th>\n",
       "      <th>character</th>\n",
       "      <th>credit_id</th>\n",
       "      <th>gender</th>\n",
       "      <th>id</th>\n",
       "      <th>name</th>\n",
       "      <th>order</th>\n",
       "      <th>profile_path</th>\n",
       "    </tr>\n",
       "  </thead>\n",
       "  <tbody>\n",
       "    <tr>\n",
       "      <th>562112</th>\n",
       "      <td>6.0</td>\n",
       "      <td>Emily Shaw</td>\n",
       "      <td>52fe4776c3a368484e0c83a3</td>\n",
       "      <td>1.0</td>\n",
       "      <td>67758</td>\n",
       "      <td>Erika Eleniak</td>\n",
       "      <td>1</td>\n",
       "      <td>/7ZdUGY78qpB2MkTzAQvYEYzncwN.jpg</td>\n",
       "    </tr>\n",
       "    <tr>\n",
       "      <th>562113</th>\n",
       "      <td>7.0</td>\n",
       "      <td>Det. Mark Winston</td>\n",
       "      <td>52fe4776c3a368484e0c83a7</td>\n",
       "      <td>2.0</td>\n",
       "      <td>67758</td>\n",
       "      <td>Adam Baldwin</td>\n",
       "      <td>2</td>\n",
       "      <td>/vhZ8AD36h09mBLuyIXboglRLgIu.jpg</td>\n",
       "    </tr>\n",
       "    <tr>\n",
       "      <th>562114</th>\n",
       "      <td>8.0</td>\n",
       "      <td>Jayne Ferré</td>\n",
       "      <td>52fe4776c3a368484e0c83ab</td>\n",
       "      <td>1.0</td>\n",
       "      <td>67758</td>\n",
       "      <td>Julie du Page</td>\n",
       "      <td>3</td>\n",
       "      <td>/gBLzn3Z2S7Hx7A0stZBi7mk9fpD.jpg</td>\n",
       "    </tr>\n",
       "    <tr>\n",
       "      <th>562115</th>\n",
       "      <td>10.0</td>\n",
       "      <td>Alex Tyler</td>\n",
       "      <td>52fe4776c3a368484e0c83b3</td>\n",
       "      <td>2.0</td>\n",
       "      <td>67758</td>\n",
       "      <td>James Remar</td>\n",
       "      <td>4</td>\n",
       "      <td>/AeSuQlBclvWqztlpkf9nIhvvhsc.jpg</td>\n",
       "    </tr>\n",
       "    <tr>\n",
       "      <th>562116</th>\n",
       "      <td>11.0</td>\n",
       "      <td>Tony</td>\n",
       "      <td>52fe4776c3a368484e0c83b7</td>\n",
       "      <td>2.0</td>\n",
       "      <td>67758</td>\n",
       "      <td>Damian Chapa</td>\n",
       "      <td>5</td>\n",
       "      <td>/e00LyDBIhDOFWgwfSU0wCTLL4ax.jpg</td>\n",
       "    </tr>\n",
       "    <tr>\n",
       "      <th>562127</th>\n",
       "      <td>2.0</td>\n",
       "      <td></td>\n",
       "      <td>52fe4ea59251416c7515d7d5</td>\n",
       "      <td>2.0</td>\n",
       "      <td>227506</td>\n",
       "      <td>Iwan Mosschuchin</td>\n",
       "      <td>1</td>\n",
       "      <td>None</td>\n",
       "    </tr>\n",
       "    <tr>\n",
       "      <th>562128</th>\n",
       "      <td>3.0</td>\n",
       "      <td></td>\n",
       "      <td>52fe4ea59251416c7515d7d9</td>\n",
       "      <td>1.0</td>\n",
       "      <td>227506</td>\n",
       "      <td>Nathalie Lissenko</td>\n",
       "      <td>2</td>\n",
       "      <td>None</td>\n",
       "    </tr>\n",
       "    <tr>\n",
       "      <th>562129</th>\n",
       "      <td>4.0</td>\n",
       "      <td></td>\n",
       "      <td>52fe4ea59251416c7515d7dd</td>\n",
       "      <td>2.0</td>\n",
       "      <td>227506</td>\n",
       "      <td>Pavel Pavlov</td>\n",
       "      <td>3</td>\n",
       "      <td>None</td>\n",
       "    </tr>\n",
       "    <tr>\n",
       "      <th>562130</th>\n",
       "      <td>5.0</td>\n",
       "      <td></td>\n",
       "      <td>52fe4ea59251416c7515d7e1</td>\n",
       "      <td>0.0</td>\n",
       "      <td>227506</td>\n",
       "      <td>Aleksandr Chabrov</td>\n",
       "      <td>4</td>\n",
       "      <td>None</td>\n",
       "    </tr>\n",
       "    <tr>\n",
       "      <th>562131</th>\n",
       "      <td>6.0</td>\n",
       "      <td></td>\n",
       "      <td>52fe4ea59251416c7515d7e5</td>\n",
       "      <td>1.0</td>\n",
       "      <td>227506</td>\n",
       "      <td>Vera Orlova</td>\n",
       "      <td>5</td>\n",
       "      <td>/n1NXVGNzNxtqsMWxLT1h8GO8Kpi.jpg</td>\n",
       "    </tr>\n",
       "  </tbody>\n",
       "</table>\n",
       "</div>"
      ],
      "text/plain": [
       "        cast_id          character                 credit_id  gender      id  \\\n",
       "562112      6.0         Emily Shaw  52fe4776c3a368484e0c83a3     1.0   67758   \n",
       "562113      7.0  Det. Mark Winston  52fe4776c3a368484e0c83a7     2.0   67758   \n",
       "562114      8.0        Jayne Ferré  52fe4776c3a368484e0c83ab     1.0   67758   \n",
       "562115     10.0         Alex Tyler  52fe4776c3a368484e0c83b3     2.0   67758   \n",
       "562116     11.0               Tony  52fe4776c3a368484e0c83b7     2.0   67758   \n",
       "562127      2.0                     52fe4ea59251416c7515d7d5     2.0  227506   \n",
       "562128      3.0                     52fe4ea59251416c7515d7d9     1.0  227506   \n",
       "562129      4.0                     52fe4ea59251416c7515d7dd     2.0  227506   \n",
       "562130      5.0                     52fe4ea59251416c7515d7e1     0.0  227506   \n",
       "562131      6.0                     52fe4ea59251416c7515d7e5     1.0  227506   \n",
       "\n",
       "                     name  order                      profile_path  \n",
       "562112      Erika Eleniak      1  /7ZdUGY78qpB2MkTzAQvYEYzncwN.jpg  \n",
       "562113       Adam Baldwin      2  /vhZ8AD36h09mBLuyIXboglRLgIu.jpg  \n",
       "562114      Julie du Page      3  /gBLzn3Z2S7Hx7A0stZBi7mk9fpD.jpg  \n",
       "562115        James Remar      4  /AeSuQlBclvWqztlpkf9nIhvvhsc.jpg  \n",
       "562116       Damian Chapa      5  /e00LyDBIhDOFWgwfSU0wCTLL4ax.jpg  \n",
       "562127   Iwan Mosschuchin      1                              None  \n",
       "562128  Nathalie Lissenko      2                              None  \n",
       "562129       Pavel Pavlov      3                              None  \n",
       "562130  Aleksandr Chabrov      4                              None  \n",
       "562131        Vera Orlova      5  /n1NXVGNzNxtqsMWxLT1h8GO8Kpi.jpg  "
      ]
     },
     "execution_count": 126,
     "metadata": {},
     "output_type": "execute_result"
    }
   ],
   "source": [
    "df_cast.tail(10)"
   ]
  },
  {
   "cell_type": "code",
   "execution_count": 127,
   "metadata": {},
   "outputs": [],
   "source": [
    "df_cast = df_cast[['id'] + [col for col in df_cast.columns if col != 'id']] #Dejo de primera la columna \"id\"\n",
    "df_cast = df_cast.drop(columns=['credit_id', 'gender', 'cast_id', 'profile_path']) #Elimino las columnas innecesarias"
   ]
  },
  {
   "cell_type": "code",
   "execution_count": 133,
   "metadata": {},
   "outputs": [],
   "source": [
    "df_cast['order'] = df_cast['order'].apply(lambda x: f\"Character {x}\")\n",
    "df_cast.rename(columns={'id': 'Id', 'name': 'Name', 'character': 'Name Character', 'order': 'Rol'}, inplace=True)\n"
   ]
  },
  {
   "cell_type": "code",
   "execution_count": 134,
   "metadata": {},
   "outputs": [
    {
     "data": {
      "text/plain": [
       "(202338, 4)"
      ]
     },
     "execution_count": 134,
     "metadata": {},
     "output_type": "execute_result"
    }
   ],
   "source": [
    "df_cast.shape #Para verificar el tamaño nuevamente"
   ]
  },
  {
   "cell_type": "code",
   "execution_count": 136,
   "metadata": {},
   "outputs": [
    {
     "data": {
      "text/html": [
       "<div>\n",
       "<style scoped>\n",
       "    .dataframe tbody tr th:only-of-type {\n",
       "        vertical-align: middle;\n",
       "    }\n",
       "\n",
       "    .dataframe tbody tr th {\n",
       "        vertical-align: top;\n",
       "    }\n",
       "\n",
       "    .dataframe thead th {\n",
       "        text-align: right;\n",
       "    }\n",
       "</style>\n",
       "<table border=\"1\" class=\"dataframe\">\n",
       "  <thead>\n",
       "    <tr style=\"text-align: right;\">\n",
       "      <th></th>\n",
       "      <th>Id</th>\n",
       "      <th>Name Character</th>\n",
       "      <th>Name</th>\n",
       "      <th>Rol</th>\n",
       "    </tr>\n",
       "  </thead>\n",
       "  <tbody>\n",
       "    <tr>\n",
       "      <th>0</th>\n",
       "      <td>862</td>\n",
       "      <td>Woody (voice)</td>\n",
       "      <td>Tom Hanks</td>\n",
       "      <td>Character 1</td>\n",
       "    </tr>\n",
       "    <tr>\n",
       "      <th>1</th>\n",
       "      <td>862</td>\n",
       "      <td>Buzz Lightyear (voice)</td>\n",
       "      <td>Tim Allen</td>\n",
       "      <td>Character 2</td>\n",
       "    </tr>\n",
       "    <tr>\n",
       "      <th>2</th>\n",
       "      <td>862</td>\n",
       "      <td>Mr. Potato Head (voice)</td>\n",
       "      <td>Don Rickles</td>\n",
       "      <td>Character 3</td>\n",
       "    </tr>\n",
       "    <tr>\n",
       "      <th>3</th>\n",
       "      <td>862</td>\n",
       "      <td>Slinky Dog (voice)</td>\n",
       "      <td>Jim Varney</td>\n",
       "      <td>Character 4</td>\n",
       "    </tr>\n",
       "    <tr>\n",
       "      <th>4</th>\n",
       "      <td>862</td>\n",
       "      <td>Rex (voice)</td>\n",
       "      <td>Wallace Shawn</td>\n",
       "      <td>Character 5</td>\n",
       "    </tr>\n",
       "    <tr>\n",
       "      <th>13</th>\n",
       "      <td>8844</td>\n",
       "      <td>Alan Parrish</td>\n",
       "      <td>Robin Williams</td>\n",
       "      <td>Character 1</td>\n",
       "    </tr>\n",
       "    <tr>\n",
       "      <th>14</th>\n",
       "      <td>8844</td>\n",
       "      <td>Samuel Alan Parrish / Van Pelt</td>\n",
       "      <td>Jonathan Hyde</td>\n",
       "      <td>Character 2</td>\n",
       "    </tr>\n",
       "    <tr>\n",
       "      <th>15</th>\n",
       "      <td>8844</td>\n",
       "      <td>Judy Sheperd</td>\n",
       "      <td>Kirsten Dunst</td>\n",
       "      <td>Character 3</td>\n",
       "    </tr>\n",
       "    <tr>\n",
       "      <th>16</th>\n",
       "      <td>8844</td>\n",
       "      <td>Peter Shepherd</td>\n",
       "      <td>Bradley Pierce</td>\n",
       "      <td>Character 4</td>\n",
       "    </tr>\n",
       "    <tr>\n",
       "      <th>17</th>\n",
       "      <td>8844</td>\n",
       "      <td>Sarah Whittle</td>\n",
       "      <td>Bonnie Hunt</td>\n",
       "      <td>Character 5</td>\n",
       "    </tr>\n",
       "  </tbody>\n",
       "</table>\n",
       "</div>"
      ],
      "text/plain": [
       "      Id                  Name Character            Name          Rol\n",
       "0    862                   Woody (voice)       Tom Hanks  Character 1\n",
       "1    862          Buzz Lightyear (voice)       Tim Allen  Character 2\n",
       "2    862         Mr. Potato Head (voice)     Don Rickles  Character 3\n",
       "3    862              Slinky Dog (voice)      Jim Varney  Character 4\n",
       "4    862                     Rex (voice)   Wallace Shawn  Character 5\n",
       "13  8844                    Alan Parrish  Robin Williams  Character 1\n",
       "14  8844  Samuel Alan Parrish / Van Pelt   Jonathan Hyde  Character 2\n",
       "15  8844                    Judy Sheperd   Kirsten Dunst  Character 3\n",
       "16  8844                  Peter Shepherd  Bradley Pierce  Character 4\n",
       "17  8844                   Sarah Whittle     Bonnie Hunt  Character 5"
      ]
     },
     "execution_count": 136,
     "metadata": {},
     "output_type": "execute_result"
    }
   ],
   "source": [
    "df_cast.head(10)"
   ]
  },
  {
   "cell_type": "code",
   "execution_count": 138,
   "metadata": {},
   "outputs": [
    {
     "data": {
      "text/plain": [
       "(202338, 4)"
      ]
     },
     "execution_count": 138,
     "metadata": {},
     "output_type": "execute_result"
    }
   ],
   "source": [
    "df_cast.shape"
   ]
  },
  {
   "cell_type": "code",
   "execution_count": 139,
   "metadata": {},
   "outputs": [
    {
     "name": "stdout",
     "output_type": "stream",
     "text": [
      "El DataFrame utiliza aproximadamente 43.36 MB de memoria.\n"
     ]
    }
   ],
   "source": [
    "# Calcular el uso de memoria del DataFrame en bytes\n",
    "uso_memoria = df_cast.memory_usage(deep=True).sum()\n",
    "\n",
    "# Convertir el uso de memoria a megabytes\n",
    "uso_memoria_mb = uso_memoria / (1024 * 1024)\n",
    "\n",
    "print(f\"El DataFrame utiliza aproximadamente {uso_memoria_mb:.2f} MB de memoria.\")\n"
   ]
  },
  {
   "cell_type": "code",
   "execution_count": 140,
   "metadata": {},
   "outputs": [
    {
     "name": "stdout",
     "output_type": "stream",
     "text": [
      "El tamaño del dataset es de 43.36 MB.\n"
     ]
    }
   ],
   "source": [
    "tamaño_en_bytes = df_cast.memory_usage(deep=True).sum()\n",
    "\n",
    "# Convertir a megabytes\n",
    "tamaño_en_megabytes = tamaño_en_bytes / (1024 ** 2)\n",
    "\n",
    "print(f\"El tamaño del dataset es de {tamaño_en_megabytes:.2f} MB.\")"
   ]
  },
  {
   "cell_type": "markdown",
   "metadata": {},
   "source": [
    "Una vez eliminadas las celdas que no se van a usar de la columna cast y creado un data set con este nombre, se procede a trabajar con la columna \"Crew\" de la cual solo se va a conservar el Director. "
   ]
  },
  {
   "cell_type": "code",
   "execution_count": 142,
   "metadata": {},
   "outputs": [
    {
     "data": {
      "text/plain": [
       "0    [{'credit_id': '52fe4284c3a36847f8024f49', 'de...\n",
       "1    [{'credit_id': '52fe44bfc3a36847f80a7cd1', 'de...\n",
       "2    [{'credit_id': '52fe466a9251416c75077a89', 'de...\n",
       "3    [{'credit_id': '52fe44779251416c91011acb', 'de...\n",
       "4    [{'credit_id': '52fe44959251416c75039ed7', 'de...\n",
       "Name: crew, dtype: object"
      ]
     },
     "execution_count": 142,
     "metadata": {},
     "output_type": "execute_result"
    }
   ],
   "source": [
    "df_credits['crew'].head()"
   ]
  },
  {
   "cell_type": "code",
   "execution_count": 143,
   "metadata": {},
   "outputs": [
    {
     "data": {
      "text/plain": [
       "list"
      ]
     },
     "execution_count": 143,
     "metadata": {},
     "output_type": "execute_result"
    }
   ],
   "source": [
    "#Se convierte el tipo de datos de String a Diccionario\n",
    "\n",
    "def convertir_a_diccionario(cadena):\n",
    "    try:\n",
    "        return ast.literal_eval(cadena)\n",
    "    except (ValueError, SyntaxError):\n",
    "        return None  # O cualquier valor predeterminado para manejar errores\n",
    "\n",
    "# Aplicar la conversión a la columna\n",
    "df_credits['crew'] = df_credits ['crew'].apply(convertir_a_diccionario)\n",
    "\n",
    "type(df_credits['crew'][0])"
   ]
  },
  {
   "cell_type": "code",
   "execution_count": 144,
   "metadata": {},
   "outputs": [
    {
     "data": {
      "text/plain": [
       "array([<class 'list'>], dtype=object)"
      ]
     },
     "execution_count": 144,
     "metadata": {},
     "output_type": "execute_result"
    }
   ],
   "source": [
    "# Se muestran los tipos de datos únicos en la columna\n",
    "\n",
    "df_credits['crew'].apply(type).unique()"
   ]
  },
  {
   "cell_type": "code",
   "execution_count": 145,
   "metadata": {},
   "outputs": [],
   "source": [
    "# Crear la función normalize_entry para procesar y normalizar diferentes tipos de datos en una entrada dentro de un DataFrame (diccionarios y listas de diccionarios)\n",
    "def normalize_entry(entry):\n",
    "    if isinstance(entry, dict):\n",
    "        return pd.json_normalize(entry)\n",
    "    elif isinstance(entry, list) and all(isinstance(i, dict) for i in entry):\n",
    "        return pd.json_normalize(entry)\n",
    "    else:\n",
    "        return pd.DataFrame()  # Retorna un DataFrame vacío para valores que no son diccionarios ni listas de diccionarios\n",
    "\n",
    "# Se crea una lista para almacenar los DataFrames expandidos\n",
    "expanded_dfs = []\n",
    "\n",
    "# Iterar sobre cada fila del DataFrame original\n",
    "for idx, row in df_credits.iterrows():\n",
    "    entry = row['crew']\n",
    "    normalized_df = normalize_entry(entry)\n",
    "    normalized_df['id'] = row['id']  # Añadir la columna 'id'\n",
    "    expanded_dfs.append(normalized_df)\n",
    "\n",
    "# Concatenar todos los DataFrames expandidos en uno solo\n",
    "df_crew = pd.concat(expanded_dfs, ignore_index=True)\n"
   ]
  },
  {
   "cell_type": "code",
   "execution_count": 146,
   "metadata": {},
   "outputs": [
    {
     "data": {
      "text/html": [
       "<div>\n",
       "<style scoped>\n",
       "    .dataframe tbody tr th:only-of-type {\n",
       "        vertical-align: middle;\n",
       "    }\n",
       "\n",
       "    .dataframe tbody tr th {\n",
       "        vertical-align: top;\n",
       "    }\n",
       "\n",
       "    .dataframe thead th {\n",
       "        text-align: right;\n",
       "    }\n",
       "</style>\n",
       "<table border=\"1\" class=\"dataframe\">\n",
       "  <thead>\n",
       "    <tr style=\"text-align: right;\">\n",
       "      <th></th>\n",
       "      <th>credit_id</th>\n",
       "      <th>department</th>\n",
       "      <th>gender</th>\n",
       "      <th>id</th>\n",
       "      <th>job</th>\n",
       "      <th>name</th>\n",
       "      <th>profile_path</th>\n",
       "    </tr>\n",
       "  </thead>\n",
       "  <tbody>\n",
       "    <tr>\n",
       "      <th>0</th>\n",
       "      <td>52fe4284c3a36847f8024f49</td>\n",
       "      <td>Directing</td>\n",
       "      <td>2.0</td>\n",
       "      <td>862</td>\n",
       "      <td>Director</td>\n",
       "      <td>John Lasseter</td>\n",
       "      <td>/7EdqiNbr4FRjIhKHyPPdFfEEEFG.jpg</td>\n",
       "    </tr>\n",
       "    <tr>\n",
       "      <th>1</th>\n",
       "      <td>52fe4284c3a36847f8024f4f</td>\n",
       "      <td>Writing</td>\n",
       "      <td>2.0</td>\n",
       "      <td>862</td>\n",
       "      <td>Screenplay</td>\n",
       "      <td>Joss Whedon</td>\n",
       "      <td>/dTiVsuaTVTeGmvkhcyJvKp2A5kr.jpg</td>\n",
       "    </tr>\n",
       "    <tr>\n",
       "      <th>2</th>\n",
       "      <td>52fe4284c3a36847f8024f55</td>\n",
       "      <td>Writing</td>\n",
       "      <td>2.0</td>\n",
       "      <td>862</td>\n",
       "      <td>Screenplay</td>\n",
       "      <td>Andrew Stanton</td>\n",
       "      <td>/pvQWsu0qc8JFQhMVJkTHuexUAa1.jpg</td>\n",
       "    </tr>\n",
       "    <tr>\n",
       "      <th>3</th>\n",
       "      <td>52fe4284c3a36847f8024f5b</td>\n",
       "      <td>Writing</td>\n",
       "      <td>2.0</td>\n",
       "      <td>862</td>\n",
       "      <td>Screenplay</td>\n",
       "      <td>Joel Cohen</td>\n",
       "      <td>/dAubAiZcvKFbboWlj7oXOkZnTSu.jpg</td>\n",
       "    </tr>\n",
       "    <tr>\n",
       "      <th>4</th>\n",
       "      <td>52fe4284c3a36847f8024f61</td>\n",
       "      <td>Writing</td>\n",
       "      <td>0.0</td>\n",
       "      <td>862</td>\n",
       "      <td>Screenplay</td>\n",
       "      <td>Alec Sokolow</td>\n",
       "      <td>/v79vlRYi94BZUQnkkyznbGUZLjT.jpg</td>\n",
       "    </tr>\n",
       "  </tbody>\n",
       "</table>\n",
       "</div>"
      ],
      "text/plain": [
       "                  credit_id department  gender   id         job  \\\n",
       "0  52fe4284c3a36847f8024f49  Directing     2.0  862    Director   \n",
       "1  52fe4284c3a36847f8024f4f    Writing     2.0  862  Screenplay   \n",
       "2  52fe4284c3a36847f8024f55    Writing     2.0  862  Screenplay   \n",
       "3  52fe4284c3a36847f8024f5b    Writing     2.0  862  Screenplay   \n",
       "4  52fe4284c3a36847f8024f61    Writing     0.0  862  Screenplay   \n",
       "\n",
       "             name                      profile_path  \n",
       "0   John Lasseter  /7EdqiNbr4FRjIhKHyPPdFfEEEFG.jpg  \n",
       "1     Joss Whedon  /dTiVsuaTVTeGmvkhcyJvKp2A5kr.jpg  \n",
       "2  Andrew Stanton  /pvQWsu0qc8JFQhMVJkTHuexUAa1.jpg  \n",
       "3      Joel Cohen  /dAubAiZcvKFbboWlj7oXOkZnTSu.jpg  \n",
       "4    Alec Sokolow  /v79vlRYi94BZUQnkkyznbGUZLjT.jpg  "
      ]
     },
     "execution_count": 146,
     "metadata": {},
     "output_type": "execute_result"
    }
   ],
   "source": [
    "df_crew.head() #Para ver como quedó estructurado el dataset creado. "
   ]
  },
  {
   "cell_type": "code",
   "execution_count": 147,
   "metadata": {},
   "outputs": [
    {
     "data": {
      "text/plain": [
       "(463927, 7)"
      ]
     },
     "execution_count": 147,
     "metadata": {},
     "output_type": "execute_result"
    }
   ],
   "source": [
    "df_crew.shape #Para confirmar el tamaño (filas y columnas)"
   ]
  },
  {
   "cell_type": "code",
   "execution_count": 148,
   "metadata": {},
   "outputs": [
    {
     "name": "stdout",
     "output_type": "stream",
     "text": [
      "El tamaño del dataset es de 150.73 MB.\n"
     ]
    }
   ],
   "source": [
    "# Para revisar el tamaño en megas. \n",
    "\n",
    "tamaño_en_bytes = df_crew.memory_usage(deep=True).sum()\n",
    "\n",
    "# Convertir a megabytes\n",
    "tamaño_en_megabytes = tamaño_en_bytes / (1024 ** 2)\n",
    "\n",
    "print(f\"El tamaño del dataset es de {tamaño_en_megabytes:.2f} MB.\")"
   ]
  },
  {
   "cell_type": "code",
   "execution_count": 149,
   "metadata": {},
   "outputs": [],
   "source": [
    "df_crew = df_crew[df_crew['job'] == 'Director']"
   ]
  },
  {
   "cell_type": "code",
   "execution_count": 150,
   "metadata": {},
   "outputs": [
    {
     "data": {
      "text/plain": [
       "Index(['credit_id', 'department', 'gender', 'id', 'job', 'name',\n",
       "       'profile_path'],\n",
       "      dtype='object')"
      ]
     },
     "execution_count": 150,
     "metadata": {},
     "output_type": "execute_result"
    }
   ],
   "source": [
    "df_crew.columns"
   ]
  },
  {
   "cell_type": "code",
   "execution_count": 155,
   "metadata": {},
   "outputs": [],
   "source": [
    "#df_crew = df_crew.drop(columns=['credit_id', 'profile_path', 'department', 'gender'])\n",
    "df_crew.rename(columns={'id': 'Id', 'job': 'Rol', 'name': 'Name'}, inplace=True)"
   ]
  },
  {
   "cell_type": "code",
   "execution_count": 156,
   "metadata": {},
   "outputs": [
    {
     "data": {
      "text/html": [
       "<div>\n",
       "<style scoped>\n",
       "    .dataframe tbody tr th:only-of-type {\n",
       "        vertical-align: middle;\n",
       "    }\n",
       "\n",
       "    .dataframe tbody tr th {\n",
       "        vertical-align: top;\n",
       "    }\n",
       "\n",
       "    .dataframe thead th {\n",
       "        text-align: right;\n",
       "    }\n",
       "</style>\n",
       "<table border=\"1\" class=\"dataframe\">\n",
       "  <thead>\n",
       "    <tr style=\"text-align: right;\">\n",
       "      <th></th>\n",
       "      <th>Id</th>\n",
       "      <th>Rol</th>\n",
       "      <th>Name</th>\n",
       "    </tr>\n",
       "  </thead>\n",
       "  <tbody>\n",
       "    <tr>\n",
       "      <th>0</th>\n",
       "      <td>862</td>\n",
       "      <td>Director</td>\n",
       "      <td>John Lasseter</td>\n",
       "    </tr>\n",
       "    <tr>\n",
       "      <th>109</th>\n",
       "      <td>8844</td>\n",
       "      <td>Director</td>\n",
       "      <td>Joe Johnston</td>\n",
       "    </tr>\n",
       "    <tr>\n",
       "      <th>122</th>\n",
       "      <td>15602</td>\n",
       "      <td>Director</td>\n",
       "      <td>Howard Deutch</td>\n",
       "    </tr>\n",
       "    <tr>\n",
       "      <th>126</th>\n",
       "      <td>31357</td>\n",
       "      <td>Director</td>\n",
       "      <td>Forest Whitaker</td>\n",
       "    </tr>\n",
       "    <tr>\n",
       "      <th>141</th>\n",
       "      <td>11862</td>\n",
       "      <td>Director</td>\n",
       "      <td>Charles Shyer</td>\n",
       "    </tr>\n",
       "  </tbody>\n",
       "</table>\n",
       "</div>"
      ],
      "text/plain": [
       "        Id       Rol             Name\n",
       "0      862  Director    John Lasseter\n",
       "109   8844  Director     Joe Johnston\n",
       "122  15602  Director    Howard Deutch\n",
       "126  31357  Director  Forest Whitaker\n",
       "141  11862  Director    Charles Shyer"
      ]
     },
     "execution_count": 156,
     "metadata": {},
     "output_type": "execute_result"
    }
   ],
   "source": [
    "df_crew.head()"
   ]
  },
  {
   "cell_type": "code",
   "execution_count": 162,
   "metadata": {},
   "outputs": [
    {
     "data": {
      "text/plain": [
       "(49008, 3)"
      ]
     },
     "execution_count": 162,
     "metadata": {},
     "output_type": "execute_result"
    }
   ],
   "source": [
    "df_crew.shape"
   ]
  },
  {
   "cell_type": "markdown",
   "metadata": {},
   "source": [
    "Ya tengo ambos dataset depurados, ahora voy a combinarlos para llegar a uno solo"
   ]
  },
  {
   "cell_type": "code",
   "execution_count": 158,
   "metadata": {},
   "outputs": [],
   "source": [
    "df_combined = pd.concat([df_cast, df_crew], axis=0, ignore_index=True)"
   ]
  },
  {
   "cell_type": "code",
   "execution_count": 160,
   "metadata": {},
   "outputs": [
    {
     "data": {
      "text/html": [
       "<div>\n",
       "<style scoped>\n",
       "    .dataframe tbody tr th:only-of-type {\n",
       "        vertical-align: middle;\n",
       "    }\n",
       "\n",
       "    .dataframe tbody tr th {\n",
       "        vertical-align: top;\n",
       "    }\n",
       "\n",
       "    .dataframe thead th {\n",
       "        text-align: right;\n",
       "    }\n",
       "</style>\n",
       "<table border=\"1\" class=\"dataframe\">\n",
       "  <thead>\n",
       "    <tr style=\"text-align: right;\">\n",
       "      <th></th>\n",
       "      <th>Id</th>\n",
       "      <th>Name Character</th>\n",
       "      <th>Name</th>\n",
       "      <th>Rol</th>\n",
       "    </tr>\n",
       "  </thead>\n",
       "  <tbody>\n",
       "    <tr>\n",
       "      <th>0</th>\n",
       "      <td>862</td>\n",
       "      <td>Woody (voice)</td>\n",
       "      <td>Tom Hanks</td>\n",
       "      <td>Character 1</td>\n",
       "    </tr>\n",
       "    <tr>\n",
       "      <th>1</th>\n",
       "      <td>862</td>\n",
       "      <td>Buzz Lightyear (voice)</td>\n",
       "      <td>Tim Allen</td>\n",
       "      <td>Character 2</td>\n",
       "    </tr>\n",
       "    <tr>\n",
       "      <th>2</th>\n",
       "      <td>862</td>\n",
       "      <td>Mr. Potato Head (voice)</td>\n",
       "      <td>Don Rickles</td>\n",
       "      <td>Character 3</td>\n",
       "    </tr>\n",
       "    <tr>\n",
       "      <th>3</th>\n",
       "      <td>862</td>\n",
       "      <td>Slinky Dog (voice)</td>\n",
       "      <td>Jim Varney</td>\n",
       "      <td>Character 4</td>\n",
       "    </tr>\n",
       "    <tr>\n",
       "      <th>4</th>\n",
       "      <td>862</td>\n",
       "      <td>Rex (voice)</td>\n",
       "      <td>Wallace Shawn</td>\n",
       "      <td>Character 5</td>\n",
       "    </tr>\n",
       "    <tr>\n",
       "      <th>202338</th>\n",
       "      <td>862</td>\n",
       "      <td>NaN</td>\n",
       "      <td>John Lasseter</td>\n",
       "      <td>Director</td>\n",
       "    </tr>\n",
       "  </tbody>\n",
       "</table>\n",
       "</div>"
      ],
      "text/plain": [
       "         Id           Name Character           Name          Rol\n",
       "0       862            Woody (voice)      Tom Hanks  Character 1\n",
       "1       862   Buzz Lightyear (voice)      Tim Allen  Character 2\n",
       "2       862  Mr. Potato Head (voice)    Don Rickles  Character 3\n",
       "3       862       Slinky Dog (voice)     Jim Varney  Character 4\n",
       "4       862              Rex (voice)  Wallace Shawn  Character 5\n",
       "202338  862                      NaN  John Lasseter     Director"
      ]
     },
     "execution_count": 160,
     "metadata": {},
     "output_type": "execute_result"
    }
   ],
   "source": [
    "df_combined[df_combined['Id'] == 862]"
   ]
  },
  {
   "cell_type": "code",
   "execution_count": 163,
   "metadata": {},
   "outputs": [
    {
     "data": {
      "text/plain": [
       "(251346, 4)"
      ]
     },
     "execution_count": 163,
     "metadata": {},
     "output_type": "execute_result"
    }
   ],
   "source": [
    "df_combined.shape"
   ]
  },
  {
   "cell_type": "code",
   "execution_count": 161,
   "metadata": {},
   "outputs": [
    {
     "name": "stdout",
     "output_type": "stream",
     "text": [
      "El tamaño del dataset es de 50.10 MB.\n"
     ]
    }
   ],
   "source": [
    "tamaño_en_bytes = df_combined.memory_usage(deep=True).sum()\n",
    "\n",
    "# Convertir a megabytes\n",
    "tamaño_en_megabytes = tamaño_en_bytes / (1024 ** 2)\n",
    "\n",
    "print(f\"El tamaño del dataset es de {tamaño_en_megabytes:.2f} MB.\")"
   ]
  }
 ],
 "metadata": {
  "kernelspec": {
   "display_name": "Python 3",
   "language": "python",
   "name": "python3"
  },
  "language_info": {
   "codemirror_mode": {
    "name": "ipython",
    "version": 3
   },
   "file_extension": ".py",
   "mimetype": "text/x-python",
   "name": "python",
   "nbconvert_exporter": "python",
   "pygments_lexer": "ipython3",
   "version": "3.10.11"
  }
 },
 "nbformat": 4,
 "nbformat_minor": 2
}
