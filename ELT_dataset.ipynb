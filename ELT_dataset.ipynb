{
 "cells": [
  {
   "cell_type": "markdown",
   "metadata": {},
   "source": [
    "# EXTRACCION, TRANSFORMACIÓN Y LIMPIEZA \n",
    "\n",
    "## Base de datos: Movies"
   ]
  },
  {
   "cell_type": "markdown",
   "metadata": {},
   "source": [
    "Se utiliza la libreria de pandas para dar inicio a la estracción y tratamiento de los datos."
   ]
  },
  {
   "cell_type": "code",
   "execution_count": 1,
   "metadata": {},
   "outputs": [],
   "source": [
    "import pandas as pd\n",
    "import numpy as np\n",
    "import json\n",
    "import ast\n",
    "import os"
   ]
  },
  {
   "cell_type": "markdown",
   "metadata": {},
   "source": [
    "Inicio la extracción, primero del detaset \"movies\" y luego del dataset \"credits\" para despues unirlos. "
   ]
  },
  {
   "cell_type": "code",
   "execution_count": 2,
   "metadata": {},
   "outputs": [
    {
     "name": "stderr",
     "output_type": "stream",
     "text": [
      "C:\\Users\\anavi\\AppData\\Local\\Temp\\ipykernel_15588\\131553651.py:2: DtypeWarning: Columns (10) have mixed types. Specify dtype option on import or set low_memory=False.\n",
      "  df_movies = pd.read_csv('C:\\\\Users\\\\anavi\\\\OneDrive\\\\Escritorio\\\\Henry\\\\P1 individual\\\\Dataset original\\\\movies_dataset.csv')\n"
     ]
    },
    {
     "data": {
      "text/plain": [
       "(45466, 24)"
      ]
     },
     "execution_count": 2,
     "metadata": {},
     "output_type": "execute_result"
    }
   ],
   "source": [
    "# Extraigo el dataset \"movies\" y reviso el tamaño\n",
    "df_movies = pd.read_csv('C:\\\\Users\\\\anavi\\\\OneDrive\\\\Escritorio\\\\Henry\\\\P1 individual\\\\Dataset original\\\\movies_dataset.csv')\n",
    "df_movies.shape"
   ]
  },
  {
   "cell_type": "code",
   "execution_count": 3,
   "metadata": {},
   "outputs": [
    {
     "data": {
      "text/plain": [
       "(45476, 3)"
      ]
     },
     "execution_count": 3,
     "metadata": {},
     "output_type": "execute_result"
    }
   ],
   "source": [
    "# Extraigo los dataset \"credits\" y reviso el tamaño\n",
    "df_credits = pd.read_csv('C:\\\\Users\\\\anavi\\\\OneDrive\\\\Escritorio\\\\Henry\\\\P1 individual\\\\Dataset original\\\\credits.csv')\n",
    "df_credits.shape"
   ]
  },
  {
   "cell_type": "code",
   "execution_count": 4,
   "metadata": {},
   "outputs": [
    {
     "name": "stdout",
     "output_type": "stream",
     "text": [
      "Tamaño movies: 32.85 MB y tamaño credits: 181.12 MB\n"
     ]
    }
   ],
   "source": [
    "# Quiero saber el tamaño de mi dataset para reducirlo hasta llegar a 100 megas\n",
    "tamaño1 = os.path.getsize('C:\\\\Users\\\\anavi\\\\OneDrive\\\\Escritorio\\\\Henry\\\\P1 individual\\\\Dataset original\\\\movies_dataset.csv')\n",
    "tamaño2 = os.path.getsize('C:\\\\Users\\\\anavi\\\\OneDrive\\\\Escritorio\\\\Henry\\\\P1 individual\\\\Dataset original\\\\credits.csv')\n",
    "\n",
    "print(f\"Tamaño movies: {tamaño1 / (1024 * 1024):.2f} MB y tamaño credits: {tamaño2 / (1024 * 1024):.2f} MB\")"
   ]
  },
  {
   "cell_type": "markdown",
   "metadata": {},
   "source": [
    "Como veo que el dataset credits es mucho más grande que el dataset movies entonces empiezo limpiandolo para reducirlo al máximo."
   ]
  },
  {
   "cell_type": "code",
   "execution_count": 5,
   "metadata": {},
   "outputs": [
    {
     "data": {
      "text/plain": [
       "(73, 3)"
      ]
     },
     "execution_count": 5,
     "metadata": {},
     "output_type": "execute_result"
    }
   ],
   "source": [
    "df_credits[df_credits.duplicated(keep=False)].shape # Verifico si hay datos duplicados para eliminarlos posteriormente"
   ]
  },
  {
   "cell_type": "code",
   "execution_count": 6,
   "metadata": {},
   "outputs": [
    {
     "data": {
      "text/plain": [
       "(0, 3)"
      ]
     },
     "execution_count": 6,
     "metadata": {},
     "output_type": "execute_result"
    }
   ],
   "source": [
    "df_credits = df_credits.drop_duplicates() # Elimino los datos duplicados en mi dataset original\n",
    "df_credits[df_credits.duplicated(keep=False)].shape #Verifico que hayan quedado eliminados"
   ]
  },
  {
   "cell_type": "code",
   "execution_count": 8,
   "metadata": {},
   "outputs": [
    {
     "data": {
      "text/plain": [
       "Index(['cast', 'crew', 'id'], dtype='object')"
      ]
     },
     "execution_count": 8,
     "metadata": {},
     "output_type": "execute_result"
    }
   ],
   "source": [
    "df_credits.columns # Verifico que columnas existen en mi data set"
   ]
  },
  {
   "cell_type": "code",
   "execution_count": 10,
   "metadata": {},
   "outputs": [
    {
     "data": {
      "text/html": [
       "<div>\n",
       "<style scoped>\n",
       "    .dataframe tbody tr th:only-of-type {\n",
       "        vertical-align: middle;\n",
       "    }\n",
       "\n",
       "    .dataframe tbody tr th {\n",
       "        vertical-align: top;\n",
       "    }\n",
       "\n",
       "    .dataframe thead th {\n",
       "        text-align: right;\n",
       "    }\n",
       "</style>\n",
       "<table border=\"1\" class=\"dataframe\">\n",
       "  <thead>\n",
       "    <tr style=\"text-align: right;\">\n",
       "      <th></th>\n",
       "      <th>cast</th>\n",
       "      <th>crew</th>\n",
       "      <th>id</th>\n",
       "    </tr>\n",
       "  </thead>\n",
       "  <tbody>\n",
       "    <tr>\n",
       "      <th>0</th>\n",
       "      <td>[{'cast_id': 14, 'character': 'Woody (voice)',...</td>\n",
       "      <td>[{'credit_id': '52fe4284c3a36847f8024f49', 'de...</td>\n",
       "      <td>862</td>\n",
       "    </tr>\n",
       "    <tr>\n",
       "      <th>1</th>\n",
       "      <td>[{'cast_id': 1, 'character': 'Alan Parrish', '...</td>\n",
       "      <td>[{'credit_id': '52fe44bfc3a36847f80a7cd1', 'de...</td>\n",
       "      <td>8844</td>\n",
       "    </tr>\n",
       "    <tr>\n",
       "      <th>2</th>\n",
       "      <td>[{'cast_id': 2, 'character': 'Max Goldman', 'c...</td>\n",
       "      <td>[{'credit_id': '52fe466a9251416c75077a89', 'de...</td>\n",
       "      <td>15602</td>\n",
       "    </tr>\n",
       "    <tr>\n",
       "      <th>3</th>\n",
       "      <td>[{'cast_id': 1, 'character': \"Savannah 'Vannah...</td>\n",
       "      <td>[{'credit_id': '52fe44779251416c91011acb', 'de...</td>\n",
       "      <td>31357</td>\n",
       "    </tr>\n",
       "    <tr>\n",
       "      <th>4</th>\n",
       "      <td>[{'cast_id': 1, 'character': 'George Banks', '...</td>\n",
       "      <td>[{'credit_id': '52fe44959251416c75039ed7', 'de...</td>\n",
       "      <td>11862</td>\n",
       "    </tr>\n",
       "  </tbody>\n",
       "</table>\n",
       "</div>"
      ],
      "text/plain": [
       "                                                cast  \\\n",
       "0  [{'cast_id': 14, 'character': 'Woody (voice)',...   \n",
       "1  [{'cast_id': 1, 'character': 'Alan Parrish', '...   \n",
       "2  [{'cast_id': 2, 'character': 'Max Goldman', 'c...   \n",
       "3  [{'cast_id': 1, 'character': \"Savannah 'Vannah...   \n",
       "4  [{'cast_id': 1, 'character': 'George Banks', '...   \n",
       "\n",
       "                                                crew     id  \n",
       "0  [{'credit_id': '52fe4284c3a36847f8024f49', 'de...    862  \n",
       "1  [{'credit_id': '52fe44bfc3a36847f80a7cd1', 'de...   8844  \n",
       "2  [{'credit_id': '52fe466a9251416c75077a89', 'de...  15602  \n",
       "3  [{'credit_id': '52fe44779251416c91011acb', 'de...  31357  \n",
       "4  [{'credit_id': '52fe44959251416c75039ed7', 'de...  11862  "
      ]
     },
     "execution_count": 10,
     "metadata": {},
     "output_type": "execute_result"
    }
   ],
   "source": [
    "df_credits.head()"
   ]
  },
  {
   "cell_type": "markdown",
   "metadata": {},
   "source": [
    "Mi dataset tiene dos columas. La primera contiene el elenco \"cast\" y la segunda contiene los nombres del equipo \"crew\". Voy a empezar por depurar la columna \"cast\" y dejar unicamente 5 actores principales, respetando el orden en el que vienen."
   ]
  },
  {
   "cell_type": "code",
   "execution_count": 12,
   "metadata": {},
   "outputs": [
    {
     "data": {
      "text/plain": [
       "str"
      ]
     },
     "execution_count": 12,
     "metadata": {},
     "output_type": "execute_result"
    }
   ],
   "source": [
    "type(df_credits['cast'][0]) # se verifica el tipo de datos, deben ser listas o dicccionarios para poder normalizarlos"
   ]
  },
  {
   "cell_type": "code",
   "execution_count": 13,
   "metadata": {},
   "outputs": [
    {
     "data": {
      "text/plain": [
       "list"
      ]
     },
     "execution_count": 13,
     "metadata": {},
     "output_type": "execute_result"
    }
   ],
   "source": [
    "#Se convierte el tipo de datos de String a Diccionario o lista\n",
    "\n",
    "def convertir_a_diccionario(cadena):\n",
    "    try:\n",
    "        return ast.literal_eval(cadena)\n",
    "    except (ValueError, SyntaxError):\n",
    "        return None  # O cualquier valor predeterminado para manejar errores\n",
    "\n",
    "# Aplicar la conversión a la columna\n",
    "df_credits['cast'] = df_credits['cast'].apply(convertir_a_diccionario)\n",
    "\n",
    "type(df_credits['cast'][0])"
   ]
  },
  {
   "cell_type": "code",
   "execution_count": 15,
   "metadata": {},
   "outputs": [
    {
     "data": {
      "text/plain": [
       "array([<class 'list'>], dtype=object)"
      ]
     },
     "execution_count": 15,
     "metadata": {},
     "output_type": "execute_result"
    }
   ],
   "source": [
    "# Se muestran los tipos de datos únicos en la columnas\n",
    "\n",
    "df_credits['cast'].apply(type).unique()"
   ]
  },
  {
   "cell_type": "code",
   "execution_count": 16,
   "metadata": {},
   "outputs": [],
   "source": [
    "# Crear la función normalize_entry para procesar y normalizar diferentes tipos de datos en una entrada dentro de un DataFrame (diccionarios y listas de diccionarios)\n",
    "def normalize_entry(entry):\n",
    "    if isinstance(entry, dict):\n",
    "        return pd.json_normalize(entry)\n",
    "    elif isinstance(entry, list) and all(isinstance(i, dict) for i in entry):\n",
    "        return pd.json_normalize(entry)\n",
    "    else:\n",
    "        return pd.DataFrame()  # Retorna un DataFrame vacío para valores que no son diccionarios ni listas de diccionarios\n",
    "\n",
    "# Se crea una lista para almacenar los DataFrames expandidos\n",
    "expanded_dfs = []\n",
    "\n",
    "# Iterar sobre cada fila del DataFrame original\n",
    "for idx, row in df_credits.iterrows():\n",
    "    entry = row['cast']\n",
    "    normalized_df = normalize_entry(entry)\n",
    "    normalized_df['id'] = row['id']  # Añadir la columna 'id'\n",
    "    normalized_df['order'] = range(1, len(normalized_df) + 1)  # Añadir la columna 'order'\n",
    "    expanded_dfs.append(normalized_df)\n",
    "\n",
    "# Concatenar todos los DataFrames expandidos en uno solo\n",
    "df_cast = pd.concat(expanded_dfs, ignore_index=True)"
   ]
  },
  {
   "cell_type": "code",
   "execution_count": 17,
   "metadata": {},
   "outputs": [
    {
     "data": {
      "text/plain": [
       "Index(['cast_id', 'character', 'credit_id', 'gender', 'id', 'name', 'order',\n",
       "       'profile_path'],\n",
       "      dtype='object')"
      ]
     },
     "execution_count": 17,
     "metadata": {},
     "output_type": "execute_result"
    }
   ],
   "source": [
    "df_cast.columns #Para verificar las columnas existentes en el nuevo data frame"
   ]
  },
  {
   "cell_type": "code",
   "execution_count": 18,
   "metadata": {},
   "outputs": [
    {
     "data": {
      "text/plain": [
       "(562132, 8)"
      ]
     },
     "execution_count": 18,
     "metadata": {},
     "output_type": "execute_result"
    }
   ],
   "source": [
    "df_cast.shape #Para verificar el tamaño del nuevo data frame"
   ]
  },
  {
   "cell_type": "code",
   "execution_count": 20,
   "metadata": {},
   "outputs": [],
   "source": [
    "df_cast = df_cast[['id'] + [col for col in df_cast.columns if col != 'id']] #Dejo de primera la columna \"id\"\n",
    "df_cast = df_cast.drop(columns=['credit_id', 'gender', 'cast_id', 'profile_path']) #Elimino las columnas innecesarias"
   ]
  },
  {
   "cell_type": "code",
   "execution_count": 23,
   "metadata": {},
   "outputs": [],
   "source": [
    "df_cast = df_cast[df_cast['order'].between(1, 5)] # Filtrar los primeros 5 actores y eliminar el resto"
   ]
  },
  {
   "cell_type": "code",
   "execution_count": 28,
   "metadata": {},
   "outputs": [
    {
     "data": {
      "text/html": [
       "<div>\n",
       "<style scoped>\n",
       "    .dataframe tbody tr th:only-of-type {\n",
       "        vertical-align: middle;\n",
       "    }\n",
       "\n",
       "    .dataframe tbody tr th {\n",
       "        vertical-align: top;\n",
       "    }\n",
       "\n",
       "    .dataframe thead th {\n",
       "        text-align: right;\n",
       "    }\n",
       "</style>\n",
       "<table border=\"1\" class=\"dataframe\">\n",
       "  <thead>\n",
       "    <tr style=\"text-align: right;\">\n",
       "      <th></th>\n",
       "      <th>id</th>\n",
       "      <th>character</th>\n",
       "      <th>name</th>\n",
       "      <th>order</th>\n",
       "    </tr>\n",
       "  </thead>\n",
       "  <tbody>\n",
       "    <tr>\n",
       "      <th>562096</th>\n",
       "      <td>30840</td>\n",
       "      <td>Sir Miles Folcanet</td>\n",
       "      <td>Jürgen Prochnow</td>\n",
       "      <td>4</td>\n",
       "    </tr>\n",
       "    <tr>\n",
       "      <th>562097</th>\n",
       "      <td>30840</td>\n",
       "      <td>Baron Roger Daguerre</td>\n",
       "      <td>Jeroen Krabbé</td>\n",
       "      <td>5</td>\n",
       "    </tr>\n",
       "    <tr>\n",
       "      <th>562098</th>\n",
       "      <td>439050</td>\n",
       "      <td></td>\n",
       "      <td>Leila Hatami</td>\n",
       "      <td>1</td>\n",
       "    </tr>\n",
       "    <tr>\n",
       "      <th>562099</th>\n",
       "      <td>439050</td>\n",
       "      <td></td>\n",
       "      <td>Kourosh Tahami</td>\n",
       "      <td>2</td>\n",
       "    </tr>\n",
       "    <tr>\n",
       "      <th>562100</th>\n",
       "      <td>439050</td>\n",
       "      <td></td>\n",
       "      <td>Elham Korda</td>\n",
       "      <td>3</td>\n",
       "    </tr>\n",
       "    <tr>\n",
       "      <th>562101</th>\n",
       "      <td>111109</td>\n",
       "      <td>Sister Angela</td>\n",
       "      <td>Angel Aquino</td>\n",
       "      <td>1</td>\n",
       "    </tr>\n",
       "    <tr>\n",
       "      <th>562102</th>\n",
       "      <td>111109</td>\n",
       "      <td>Homer</td>\n",
       "      <td>Perry Dizon</td>\n",
       "      <td>2</td>\n",
       "    </tr>\n",
       "    <tr>\n",
       "      <th>562103</th>\n",
       "      <td>111109</td>\n",
       "      <td>Crazy Woman/Virgin</td>\n",
       "      <td>Hazel Orencio</td>\n",
       "      <td>3</td>\n",
       "    </tr>\n",
       "    <tr>\n",
       "      <th>562104</th>\n",
       "      <td>111109</td>\n",
       "      <td>Amang Tiburcio</td>\n",
       "      <td>Joel Torre</td>\n",
       "      <td>4</td>\n",
       "    </tr>\n",
       "    <tr>\n",
       "      <th>562105</th>\n",
       "      <td>111109</td>\n",
       "      <td>Ex-convict/Dindo</td>\n",
       "      <td>Bart Guingona</td>\n",
       "      <td>5</td>\n",
       "    </tr>\n",
       "    <tr>\n",
       "      <th>562112</th>\n",
       "      <td>67758</td>\n",
       "      <td>Emily Shaw</td>\n",
       "      <td>Erika Eleniak</td>\n",
       "      <td>1</td>\n",
       "    </tr>\n",
       "    <tr>\n",
       "      <th>562113</th>\n",
       "      <td>67758</td>\n",
       "      <td>Det. Mark Winston</td>\n",
       "      <td>Adam Baldwin</td>\n",
       "      <td>2</td>\n",
       "    </tr>\n",
       "    <tr>\n",
       "      <th>562114</th>\n",
       "      <td>67758</td>\n",
       "      <td>Jayne Ferré</td>\n",
       "      <td>Julie du Page</td>\n",
       "      <td>3</td>\n",
       "    </tr>\n",
       "    <tr>\n",
       "      <th>562115</th>\n",
       "      <td>67758</td>\n",
       "      <td>Alex Tyler</td>\n",
       "      <td>James Remar</td>\n",
       "      <td>4</td>\n",
       "    </tr>\n",
       "    <tr>\n",
       "      <th>562116</th>\n",
       "      <td>67758</td>\n",
       "      <td>Tony</td>\n",
       "      <td>Damian Chapa</td>\n",
       "      <td>5</td>\n",
       "    </tr>\n",
       "    <tr>\n",
       "      <th>562127</th>\n",
       "      <td>227506</td>\n",
       "      <td></td>\n",
       "      <td>Iwan Mosschuchin</td>\n",
       "      <td>1</td>\n",
       "    </tr>\n",
       "    <tr>\n",
       "      <th>562128</th>\n",
       "      <td>227506</td>\n",
       "      <td></td>\n",
       "      <td>Nathalie Lissenko</td>\n",
       "      <td>2</td>\n",
       "    </tr>\n",
       "    <tr>\n",
       "      <th>562129</th>\n",
       "      <td>227506</td>\n",
       "      <td></td>\n",
       "      <td>Pavel Pavlov</td>\n",
       "      <td>3</td>\n",
       "    </tr>\n",
       "    <tr>\n",
       "      <th>562130</th>\n",
       "      <td>227506</td>\n",
       "      <td></td>\n",
       "      <td>Aleksandr Chabrov</td>\n",
       "      <td>4</td>\n",
       "    </tr>\n",
       "    <tr>\n",
       "      <th>562131</th>\n",
       "      <td>227506</td>\n",
       "      <td></td>\n",
       "      <td>Vera Orlova</td>\n",
       "      <td>5</td>\n",
       "    </tr>\n",
       "  </tbody>\n",
       "</table>\n",
       "</div>"
      ],
      "text/plain": [
       "            id             character               name  order\n",
       "562096   30840    Sir Miles Folcanet    Jürgen Prochnow      4\n",
       "562097   30840  Baron Roger Daguerre      Jeroen Krabbé      5\n",
       "562098  439050                             Leila Hatami      1\n",
       "562099  439050                           Kourosh Tahami      2\n",
       "562100  439050                              Elham Korda      3\n",
       "562101  111109         Sister Angela       Angel Aquino      1\n",
       "562102  111109                 Homer        Perry Dizon      2\n",
       "562103  111109    Crazy Woman/Virgin      Hazel Orencio      3\n",
       "562104  111109        Amang Tiburcio         Joel Torre      4\n",
       "562105  111109      Ex-convict/Dindo      Bart Guingona      5\n",
       "562112   67758            Emily Shaw      Erika Eleniak      1\n",
       "562113   67758     Det. Mark Winston       Adam Baldwin      2\n",
       "562114   67758           Jayne Ferré      Julie du Page      3\n",
       "562115   67758            Alex Tyler        James Remar      4\n",
       "562116   67758                  Tony       Damian Chapa      5\n",
       "562127  227506                         Iwan Mosschuchin      1\n",
       "562128  227506                        Nathalie Lissenko      2\n",
       "562129  227506                             Pavel Pavlov      3\n",
       "562130  227506                        Aleksandr Chabrov      4\n",
       "562131  227506                              Vera Orlova      5"
      ]
     },
     "execution_count": 28,
     "metadata": {},
     "output_type": "execute_result"
    }
   ],
   "source": [
    "df_cast.tail(20)"
   ]
  },
  {
   "cell_type": "code",
   "execution_count": null,
   "metadata": {},
   "outputs": [],
   "source": []
  },
  {
   "cell_type": "code",
   "execution_count": 26,
   "metadata": {},
   "outputs": [
    {
     "data": {
      "text/plain": [
       "(202338, 4)"
      ]
     },
     "execution_count": 26,
     "metadata": {},
     "output_type": "execute_result"
    }
   ],
   "source": [
    "df_cast.shape #Para verificar el tamaño nuevamente"
   ]
  },
  {
   "cell_type": "code",
   "execution_count": 161,
   "metadata": {},
   "outputs": [],
   "source": [
    "df_cast['order'] = df_cast['order'].astype(str)  # Para que la columna order se maneje como cadena\n",
    "df_cast = df_cast.pivot_table(index=['id'], columns='order', values=['character', 'name'], aggfunc='first') # se hace  el pivot de la tabla\n",
    "df_cast.columns = [f\"{val}_{col}\" for val, col in df_cast.columns] # Ajustamos el formato del DataFrame resultante\n",
    "df_cast.reset_index(inplace=True)"
   ]
  },
  {
   "cell_type": "code",
   "execution_count": 162,
   "metadata": {},
   "outputs": [
    {
     "data": {
      "text/html": [
       "<div>\n",
       "<style scoped>\n",
       "    .dataframe tbody tr th:only-of-type {\n",
       "        vertical-align: middle;\n",
       "    }\n",
       "\n",
       "    .dataframe tbody tr th {\n",
       "        vertical-align: top;\n",
       "    }\n",
       "\n",
       "    .dataframe thead th {\n",
       "        text-align: right;\n",
       "    }\n",
       "</style>\n",
       "<table border=\"1\" class=\"dataframe\">\n",
       "  <thead>\n",
       "    <tr style=\"text-align: right;\">\n",
       "      <th></th>\n",
       "      <th>id</th>\n",
       "      <th>character_1</th>\n",
       "      <th>character_2</th>\n",
       "      <th>character_3</th>\n",
       "      <th>character_4</th>\n",
       "      <th>character_5</th>\n",
       "      <th>name_1</th>\n",
       "      <th>name_2</th>\n",
       "      <th>name_3</th>\n",
       "      <th>name_4</th>\n",
       "      <th>name_5</th>\n",
       "    </tr>\n",
       "  </thead>\n",
       "  <tbody>\n",
       "    <tr>\n",
       "      <th>0</th>\n",
       "      <td>2</td>\n",
       "      <td>Taisto Olavi Kasurinen</td>\n",
       "      <td>Irmeli Katariina Pihlaja</td>\n",
       "      <td>Mikkonen</td>\n",
       "      <td>Riku</td>\n",
       "      <td>NaN</td>\n",
       "      <td>Turo Pajala</td>\n",
       "      <td>Susanna Haavisto</td>\n",
       "      <td>Matti Pellonpää</td>\n",
       "      <td>Eetu Hilkamo</td>\n",
       "      <td>NaN</td>\n",
       "    </tr>\n",
       "    <tr>\n",
       "      <th>1</th>\n",
       "      <td>3</td>\n",
       "      <td>Nikander</td>\n",
       "      <td>Ilona Rajamäki</td>\n",
       "      <td>Melartin</td>\n",
       "      <td>Co-worker</td>\n",
       "      <td>Ilona's Girlfriend</td>\n",
       "      <td>Matti Pellonpää</td>\n",
       "      <td>Kati Outinen</td>\n",
       "      <td>Sakari Kuosmanen</td>\n",
       "      <td>Esko Nikkari</td>\n",
       "      <td>Kylli Köngäs</td>\n",
       "    </tr>\n",
       "    <tr>\n",
       "      <th>2</th>\n",
       "      <td>5</td>\n",
       "      <td>Ted the Bellhop</td>\n",
       "      <td>Man</td>\n",
       "      <td>Angela</td>\n",
       "      <td>Elspeth</td>\n",
       "      <td>Margaret</td>\n",
       "      <td>Tim Roth</td>\n",
       "      <td>Antonio Banderas</td>\n",
       "      <td>Jennifer Beals</td>\n",
       "      <td>Madonna</td>\n",
       "      <td>Marisa Tomei</td>\n",
       "    </tr>\n",
       "    <tr>\n",
       "      <th>3</th>\n",
       "      <td>6</td>\n",
       "      <td>Frank Wyatt</td>\n",
       "      <td>Mike Peterson</td>\n",
       "      <td>Fallon</td>\n",
       "      <td>Ray Cochran</td>\n",
       "      <td>Sykes</td>\n",
       "      <td>Emilio Estevez</td>\n",
       "      <td>Cuba Gooding Jr.</td>\n",
       "      <td>Denis Leary</td>\n",
       "      <td>Jeremy Piven</td>\n",
       "      <td>Peter Greene</td>\n",
       "    </tr>\n",
       "    <tr>\n",
       "      <th>4</th>\n",
       "      <td>11</td>\n",
       "      <td>Luke Skywalker</td>\n",
       "      <td>Han Solo</td>\n",
       "      <td>Princess Leia Organa</td>\n",
       "      <td>Grand Moff Tarkin</td>\n",
       "      <td>Obi-Wan \"Ben\" Kenobi</td>\n",
       "      <td>Mark Hamill</td>\n",
       "      <td>Harrison Ford</td>\n",
       "      <td>Carrie Fisher</td>\n",
       "      <td>Peter Cushing</td>\n",
       "      <td>Alec Guinness</td>\n",
       "    </tr>\n",
       "  </tbody>\n",
       "</table>\n",
       "</div>"
      ],
      "text/plain": [
       "   id             character_1               character_2           character_3  \\\n",
       "0   2  Taisto Olavi Kasurinen  Irmeli Katariina Pihlaja              Mikkonen   \n",
       "1   3                Nikander            Ilona Rajamäki              Melartin   \n",
       "2   5         Ted the Bellhop                       Man                Angela   \n",
       "3   6             Frank Wyatt             Mike Peterson                Fallon   \n",
       "4  11          Luke Skywalker                  Han Solo  Princess Leia Organa   \n",
       "\n",
       "         character_4           character_5           name_1            name_2  \\\n",
       "0               Riku                   NaN      Turo Pajala  Susanna Haavisto   \n",
       "1          Co-worker    Ilona's Girlfriend  Matti Pellonpää      Kati Outinen   \n",
       "2            Elspeth              Margaret         Tim Roth  Antonio Banderas   \n",
       "3        Ray Cochran                 Sykes   Emilio Estevez  Cuba Gooding Jr.   \n",
       "4  Grand Moff Tarkin  Obi-Wan \"Ben\" Kenobi      Mark Hamill     Harrison Ford   \n",
       "\n",
       "             name_3         name_4         name_5  \n",
       "0   Matti Pellonpää   Eetu Hilkamo            NaN  \n",
       "1  Sakari Kuosmanen   Esko Nikkari   Kylli Köngäs  \n",
       "2    Jennifer Beals        Madonna   Marisa Tomei  \n",
       "3       Denis Leary   Jeremy Piven   Peter Greene  \n",
       "4     Carrie Fisher  Peter Cushing  Alec Guinness  "
      ]
     },
     "execution_count": 162,
     "metadata": {},
     "output_type": "execute_result"
    }
   ],
   "source": [
    "df_cast.head()"
   ]
  },
  {
   "cell_type": "code",
   "execution_count": 163,
   "metadata": {},
   "outputs": [
    {
     "data": {
      "text/plain": [
       "(43018, 11)"
      ]
     },
     "execution_count": 163,
     "metadata": {},
     "output_type": "execute_result"
    }
   ],
   "source": [
    "df_cast.shape"
   ]
  },
  {
   "cell_type": "code",
   "execution_count": 164,
   "metadata": {},
   "outputs": [
    {
     "name": "stdout",
     "output_type": "stream",
     "text": [
      "El DataFrame utiliza aproximadamente 28.26 MB de memoria.\n"
     ]
    }
   ],
   "source": [
    "# Calcular el uso de memoria del DataFrame en bytes\n",
    "uso_memoria = df_cast.memory_usage(deep=True).sum()\n",
    "\n",
    "# Convertir el uso de memoria a megabytes\n",
    "uso_memoria_mb = uso_memoria / (1024 * 1024)\n",
    "\n",
    "print(f\"El DataFrame utiliza aproximadamente {uso_memoria_mb:.2f} MB de memoria.\")\n"
   ]
  }
 ],
 "metadata": {
  "kernelspec": {
   "display_name": "Python 3",
   "language": "python",
   "name": "python3"
  },
  "language_info": {
   "codemirror_mode": {
    "name": "ipython",
    "version": 3
   },
   "file_extension": ".py",
   "mimetype": "text/x-python",
   "name": "python",
   "nbconvert_exporter": "python",
   "pygments_lexer": "ipython3",
   "version": "3.10.11"
  }
 },
 "nbformat": 4,
 "nbformat_minor": 2
}
