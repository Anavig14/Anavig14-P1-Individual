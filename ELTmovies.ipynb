{
 "cells": [
  {
   "cell_type": "markdown",
   "metadata": {},
   "source": [
    "# EXTRACCION, TRANSFORMACIÓN Y LIMPIEZA \n",
    "\n",
    "## Base de datos: Movies"
   ]
  },
  {
   "cell_type": "markdown",
   "metadata": {},
   "source": [
    "Se utiliza la libreria de pandas para dar inicio a la estracción y tratamiento de los datos."
   ]
  },
  {
   "cell_type": "code",
   "execution_count": 145,
   "metadata": {},
   "outputs": [],
   "source": [
    "import pandas as pd\n",
    "import numpy as np\n",
    "import json\n",
    "import ast\n",
    "import os"
   ]
  },
  {
   "cell_type": "markdown",
   "metadata": {},
   "source": [
    "Inicio la extracción, primero del detaset \"movies\" y luego del dataset \"credits\" para despues unirlos. "
   ]
  },
  {
   "cell_type": "code",
   "execution_count": 146,
   "metadata": {},
   "outputs": [
    {
     "name": "stderr",
     "output_type": "stream",
     "text": [
      "C:\\Users\\anavi\\AppData\\Local\\Temp\\ipykernel_18280\\131553651.py:2: DtypeWarning: Columns (10) have mixed types. Specify dtype option on import or set low_memory=False.\n",
      "  df_movies = pd.read_csv('C:\\\\Users\\\\anavi\\\\OneDrive\\\\Escritorio\\\\Henry\\\\P1 individual\\\\Dataset original\\\\movies_dataset.csv')\n"
     ]
    },
    {
     "data": {
      "text/plain": [
       "(45466, 24)"
      ]
     },
     "execution_count": 146,
     "metadata": {},
     "output_type": "execute_result"
    }
   ],
   "source": [
    "# Extraigo el dataset \"movies\" y reviso el tamaño\n",
    "df_movies = pd.read_csv('C:\\\\Users\\\\anavi\\\\OneDrive\\\\Escritorio\\\\Henry\\\\P1 individual\\\\Dataset original\\\\movies_dataset.csv')\n",
    "df_movies.shape"
   ]
  },
  {
   "cell_type": "code",
   "execution_count": 147,
   "metadata": {},
   "outputs": [
    {
     "data": {
      "text/plain": [
       "(45476, 3)"
      ]
     },
     "execution_count": 147,
     "metadata": {},
     "output_type": "execute_result"
    }
   ],
   "source": [
    "# Extraigo los dataset \"credits\" y reviso el tamaño\n",
    "df_credits = pd.read_csv('C:\\\\Users\\\\anavi\\\\OneDrive\\\\Escritorio\\\\Henry\\\\P1 individual\\\\Dataset original\\\\credits.csv')\n",
    "df_credits.shape"
   ]
  },
  {
   "cell_type": "code",
   "execution_count": 148,
   "metadata": {},
   "outputs": [
    {
     "name": "stdout",
     "output_type": "stream",
     "text": [
      "Tamaño movies: 32.85 MB y tamaño credits: 181.12 MB\n"
     ]
    }
   ],
   "source": [
    "# Quiero saber el tamaño de mi dataset para reducirlo hasta llegar a 100 megas\n",
    "tamaño1 = os.path.getsize('C:\\\\Users\\\\anavi\\\\OneDrive\\\\Escritorio\\\\Henry\\\\P1 individual\\\\Dataset original\\\\movies_dataset.csv')\n",
    "tamaño2 = os.path.getsize('C:\\\\Users\\\\anavi\\\\OneDrive\\\\Escritorio\\\\Henry\\\\P1 individual\\\\Dataset original\\\\credits.csv')\n",
    "\n",
    "print(f\"Tamaño movies: {tamaño1 / (1024 * 1024):.2f} MB y tamaño credits: {tamaño2 / (1024 * 1024):.2f} MB\")"
   ]
  },
  {
   "cell_type": "markdown",
   "metadata": {},
   "source": [
    "Como veo que el dataset credits es mucho más grande que el dataset movies entonces empiezo limpiandolo para reducirlo al máximo."
   ]
  },
  {
   "cell_type": "code",
   "execution_count": 149,
   "metadata": {},
   "outputs": [
    {
     "data": {
      "text/plain": [
       "(73, 3)"
      ]
     },
     "execution_count": 149,
     "metadata": {},
     "output_type": "execute_result"
    }
   ],
   "source": [
    "df_credits[df_credits.duplicated(keep=False)].shape # Verifico si hay datos duplicados para eliminarlos posteriormente"
   ]
  },
  {
   "cell_type": "code",
   "execution_count": 150,
   "metadata": {},
   "outputs": [
    {
     "data": {
      "text/plain": [
       "(0, 3)"
      ]
     },
     "execution_count": 150,
     "metadata": {},
     "output_type": "execute_result"
    }
   ],
   "source": [
    "df_credits = df_credits.drop_duplicates() # Elimino los datos duplicados en mi dataset original\n",
    "df_credits[df_credits.duplicated(keep=False)].shape #Verifico que hayan quedado eliminados"
   ]
  },
  {
   "cell_type": "code",
   "execution_count": 151,
   "metadata": {},
   "outputs": [
    {
     "data": {
      "text/plain": [
       "str"
      ]
     },
     "execution_count": 151,
     "metadata": {},
     "output_type": "execute_result"
    }
   ],
   "source": [
    "type(df_credits['cast'][0]) # se verifica el tipo de datos, deben ser listas o dicccionarios para poder normalizarlos"
   ]
  },
  {
   "cell_type": "code",
   "execution_count": 152,
   "metadata": {},
   "outputs": [
    {
     "data": {
      "text/plain": [
       "list"
      ]
     },
     "execution_count": 152,
     "metadata": {},
     "output_type": "execute_result"
    }
   ],
   "source": [
    "#Se convierte el tipo de datos de String a Diccionario o lista\n",
    "\n",
    "def convertir_a_diccionario(cadena):\n",
    "    try:\n",
    "        return ast.literal_eval(cadena)\n",
    "    except (ValueError, SyntaxError):\n",
    "        return None  # O cualquier valor predeterminado para manejar errores\n",
    "\n",
    "# Aplicar la conversión a la columna\n",
    "df_credits['cast'] = df_credits['cast'].apply(convertir_a_diccionario)\n",
    "\n",
    "type(df_credits['cast'][0])"
   ]
  },
  {
   "cell_type": "code",
   "execution_count": 153,
   "metadata": {},
   "outputs": [
    {
     "data": {
      "text/plain": [
       "array([<class 'list'>], dtype=object)"
      ]
     },
     "execution_count": 153,
     "metadata": {},
     "output_type": "execute_result"
    }
   ],
   "source": [
    "# Se muestran los tipos de datos únicos en la columnas\n",
    "\n",
    "df_credits['cast'].apply(type).unique()"
   ]
  },
  {
   "cell_type": "code",
   "execution_count": 154,
   "metadata": {},
   "outputs": [],
   "source": [
    "# Crear la función normalize_entry para procesar y normalizar diferentes tipos de datos en una entrada dentro de un DataFrame (diccionarios y listas de diccionarios)\n",
    "def normalize_entry(entry):\n",
    "    if isinstance(entry, dict):\n",
    "        return pd.json_normalize(entry)\n",
    "    elif isinstance(entry, list) and all(isinstance(i, dict) for i in entry):\n",
    "        return pd.json_normalize(entry)\n",
    "    else:\n",
    "        return pd.DataFrame()  # Retorna un DataFrame vacío para valores que no son diccionarios ni listas de diccionarios\n",
    "\n",
    "# Se crea una lista para almacenar los DataFrames expandidos\n",
    "expanded_dfs = []\n",
    "\n",
    "# Iterar sobre cada fila del DataFrame original\n",
    "for idx, row in df_credits.iterrows():\n",
    "    entry = row['cast']\n",
    "    normalized_df = normalize_entry(entry)\n",
    "    normalized_df['id'] = row['id']  # Añadir la columna 'id'\n",
    "    normalized_df['order'] = range(1, len(normalized_df) + 1)  # Añadir la columna 'order'\n",
    "    expanded_dfs.append(normalized_df)\n",
    "\n",
    "# Concatenar todos los DataFrames expandidos en uno solo\n",
    "df_cast = pd.concat(expanded_dfs, ignore_index=True)"
   ]
  },
  {
   "cell_type": "code",
   "execution_count": 155,
   "metadata": {},
   "outputs": [
    {
     "data": {
      "text/plain": [
       "Index(['cast_id', 'character', 'credit_id', 'gender', 'id', 'name', 'order',\n",
       "       'profile_path'],\n",
       "      dtype='object')"
      ]
     },
     "execution_count": 155,
     "metadata": {},
     "output_type": "execute_result"
    }
   ],
   "source": [
    "df_cast.columns #Para verificar las columnas existentes en el nuevo data frame"
   ]
  },
  {
   "cell_type": "code",
   "execution_count": 156,
   "metadata": {},
   "outputs": [
    {
     "data": {
      "text/plain": [
       "(562132, 8)"
      ]
     },
     "execution_count": 156,
     "metadata": {},
     "output_type": "execute_result"
    }
   ],
   "source": [
    "df_cast.shape #Para verificar el tamaño del nuevo data frame"
   ]
  },
  {
   "cell_type": "code",
   "execution_count": 157,
   "metadata": {},
   "outputs": [],
   "source": [
    "df_cast = df_cast[['id'] + [col for col in df_cast.columns if col != 'id']] #Dejo de primera la columna \"id\"\n",
    "df_cast = df_cast.drop(columns=['credit_id', 'gender', 'cast_id', 'profile_path']) #Elimino las columnas innecesarias"
   ]
  },
  {
   "cell_type": "code",
   "execution_count": 158,
   "metadata": {},
   "outputs": [],
   "source": [
    "df_cast = df_cast[df_cast['order'].between(1, 5)] # Filtrar los primeros 5 actores y eliminar el resto"
   ]
  },
  {
   "cell_type": "code",
   "execution_count": 159,
   "metadata": {},
   "outputs": [
    {
     "data": {
      "text/html": [
       "<div>\n",
       "<style scoped>\n",
       "    .dataframe tbody tr th:only-of-type {\n",
       "        vertical-align: middle;\n",
       "    }\n",
       "\n",
       "    .dataframe tbody tr th {\n",
       "        vertical-align: top;\n",
       "    }\n",
       "\n",
       "    .dataframe thead th {\n",
       "        text-align: right;\n",
       "    }\n",
       "</style>\n",
       "<table border=\"1\" class=\"dataframe\">\n",
       "  <thead>\n",
       "    <tr style=\"text-align: right;\">\n",
       "      <th></th>\n",
       "      <th>id</th>\n",
       "      <th>character</th>\n",
       "      <th>name</th>\n",
       "      <th>order</th>\n",
       "    </tr>\n",
       "  </thead>\n",
       "  <tbody>\n",
       "    <tr>\n",
       "      <th>0</th>\n",
       "      <td>862</td>\n",
       "      <td>Woody (voice)</td>\n",
       "      <td>Tom Hanks</td>\n",
       "      <td>1</td>\n",
       "    </tr>\n",
       "    <tr>\n",
       "      <th>1</th>\n",
       "      <td>862</td>\n",
       "      <td>Buzz Lightyear (voice)</td>\n",
       "      <td>Tim Allen</td>\n",
       "      <td>2</td>\n",
       "    </tr>\n",
       "    <tr>\n",
       "      <th>2</th>\n",
       "      <td>862</td>\n",
       "      <td>Mr. Potato Head (voice)</td>\n",
       "      <td>Don Rickles</td>\n",
       "      <td>3</td>\n",
       "    </tr>\n",
       "    <tr>\n",
       "      <th>3</th>\n",
       "      <td>862</td>\n",
       "      <td>Slinky Dog (voice)</td>\n",
       "      <td>Jim Varney</td>\n",
       "      <td>4</td>\n",
       "    </tr>\n",
       "    <tr>\n",
       "      <th>4</th>\n",
       "      <td>862</td>\n",
       "      <td>Rex (voice)</td>\n",
       "      <td>Wallace Shawn</td>\n",
       "      <td>5</td>\n",
       "    </tr>\n",
       "    <tr>\n",
       "      <th>13</th>\n",
       "      <td>8844</td>\n",
       "      <td>Alan Parrish</td>\n",
       "      <td>Robin Williams</td>\n",
       "      <td>1</td>\n",
       "    </tr>\n",
       "    <tr>\n",
       "      <th>14</th>\n",
       "      <td>8844</td>\n",
       "      <td>Samuel Alan Parrish / Van Pelt</td>\n",
       "      <td>Jonathan Hyde</td>\n",
       "      <td>2</td>\n",
       "    </tr>\n",
       "    <tr>\n",
       "      <th>15</th>\n",
       "      <td>8844</td>\n",
       "      <td>Judy Sheperd</td>\n",
       "      <td>Kirsten Dunst</td>\n",
       "      <td>3</td>\n",
       "    </tr>\n",
       "    <tr>\n",
       "      <th>16</th>\n",
       "      <td>8844</td>\n",
       "      <td>Peter Shepherd</td>\n",
       "      <td>Bradley Pierce</td>\n",
       "      <td>4</td>\n",
       "    </tr>\n",
       "    <tr>\n",
       "      <th>17</th>\n",
       "      <td>8844</td>\n",
       "      <td>Sarah Whittle</td>\n",
       "      <td>Bonnie Hunt</td>\n",
       "      <td>5</td>\n",
       "    </tr>\n",
       "    <tr>\n",
       "      <th>39</th>\n",
       "      <td>15602</td>\n",
       "      <td>Max Goldman</td>\n",
       "      <td>Walter Matthau</td>\n",
       "      <td>1</td>\n",
       "    </tr>\n",
       "    <tr>\n",
       "      <th>40</th>\n",
       "      <td>15602</td>\n",
       "      <td>John Gustafson</td>\n",
       "      <td>Jack Lemmon</td>\n",
       "      <td>2</td>\n",
       "    </tr>\n",
       "    <tr>\n",
       "      <th>41</th>\n",
       "      <td>15602</td>\n",
       "      <td>Ariel Gustafson</td>\n",
       "      <td>Ann-Margret</td>\n",
       "      <td>3</td>\n",
       "    </tr>\n",
       "    <tr>\n",
       "      <th>42</th>\n",
       "      <td>15602</td>\n",
       "      <td>Maria Sophia Coletta Ragetti</td>\n",
       "      <td>Sophia Loren</td>\n",
       "      <td>4</td>\n",
       "    </tr>\n",
       "    <tr>\n",
       "      <th>43</th>\n",
       "      <td>15602</td>\n",
       "      <td>Melanie Gustafson</td>\n",
       "      <td>Daryl Hannah</td>\n",
       "      <td>5</td>\n",
       "    </tr>\n",
       "    <tr>\n",
       "      <th>46</th>\n",
       "      <td>31357</td>\n",
       "      <td>Savannah 'Vannah' Jackson</td>\n",
       "      <td>Whitney Houston</td>\n",
       "      <td>1</td>\n",
       "    </tr>\n",
       "    <tr>\n",
       "      <th>47</th>\n",
       "      <td>31357</td>\n",
       "      <td>Bernadine 'Bernie' Harris</td>\n",
       "      <td>Angela Bassett</td>\n",
       "      <td>2</td>\n",
       "    </tr>\n",
       "    <tr>\n",
       "      <th>48</th>\n",
       "      <td>31357</td>\n",
       "      <td>Gloria 'Glo' Matthews</td>\n",
       "      <td>Loretta Devine</td>\n",
       "      <td>3</td>\n",
       "    </tr>\n",
       "    <tr>\n",
       "      <th>49</th>\n",
       "      <td>31357</td>\n",
       "      <td>Robin Stokes</td>\n",
       "      <td>Lela Rochon</td>\n",
       "      <td>4</td>\n",
       "    </tr>\n",
       "    <tr>\n",
       "      <th>50</th>\n",
       "      <td>31357</td>\n",
       "      <td>Marvin King</td>\n",
       "      <td>Gregory Hines</td>\n",
       "      <td>5</td>\n",
       "    </tr>\n",
       "  </tbody>\n",
       "</table>\n",
       "</div>"
      ],
      "text/plain": [
       "       id                       character             name  order\n",
       "0     862                   Woody (voice)        Tom Hanks      1\n",
       "1     862          Buzz Lightyear (voice)        Tim Allen      2\n",
       "2     862         Mr. Potato Head (voice)      Don Rickles      3\n",
       "3     862              Slinky Dog (voice)       Jim Varney      4\n",
       "4     862                     Rex (voice)    Wallace Shawn      5\n",
       "13   8844                    Alan Parrish   Robin Williams      1\n",
       "14   8844  Samuel Alan Parrish / Van Pelt    Jonathan Hyde      2\n",
       "15   8844                    Judy Sheperd    Kirsten Dunst      3\n",
       "16   8844                  Peter Shepherd   Bradley Pierce      4\n",
       "17   8844                   Sarah Whittle      Bonnie Hunt      5\n",
       "39  15602                     Max Goldman   Walter Matthau      1\n",
       "40  15602                  John Gustafson      Jack Lemmon      2\n",
       "41  15602                 Ariel Gustafson      Ann-Margret      3\n",
       "42  15602    Maria Sophia Coletta Ragetti     Sophia Loren      4\n",
       "43  15602               Melanie Gustafson     Daryl Hannah      5\n",
       "46  31357       Savannah 'Vannah' Jackson  Whitney Houston      1\n",
       "47  31357       Bernadine 'Bernie' Harris   Angela Bassett      2\n",
       "48  31357           Gloria 'Glo' Matthews   Loretta Devine      3\n",
       "49  31357                    Robin Stokes      Lela Rochon      4\n",
       "50  31357                     Marvin King    Gregory Hines      5"
      ]
     },
     "execution_count": 159,
     "metadata": {},
     "output_type": "execute_result"
    }
   ],
   "source": [
    "df_cast.head(20)"
   ]
  },
  {
   "cell_type": "code",
   "execution_count": 160,
   "metadata": {},
   "outputs": [
    {
     "data": {
      "text/plain": [
       "(202338, 4)"
      ]
     },
     "execution_count": 160,
     "metadata": {},
     "output_type": "execute_result"
    }
   ],
   "source": [
    "df_cast.shape #Para verificar el tamaño nuevamente"
   ]
  },
  {
   "cell_type": "code",
   "execution_count": 161,
   "metadata": {},
   "outputs": [],
   "source": [
    "df_cast['order'] = df_cast['order'].astype(str)  # Para que la columna order se maneje como cadena\n",
    "df_cast = df_cast.pivot_table(index=['id'], columns='order', values=['character', 'name'], aggfunc='first') # se hace  el pivot de la tabla\n",
    "df_cast.columns = [f\"{val}_{col}\" for val, col in df_cast.columns] # Ajustamos el formato del DataFrame resultante\n",
    "df_cast.reset_index(inplace=True)"
   ]
  },
  {
   "cell_type": "code",
   "execution_count": 162,
   "metadata": {},
   "outputs": [
    {
     "data": {
      "text/html": [
       "<div>\n",
       "<style scoped>\n",
       "    .dataframe tbody tr th:only-of-type {\n",
       "        vertical-align: middle;\n",
       "    }\n",
       "\n",
       "    .dataframe tbody tr th {\n",
       "        vertical-align: top;\n",
       "    }\n",
       "\n",
       "    .dataframe thead th {\n",
       "        text-align: right;\n",
       "    }\n",
       "</style>\n",
       "<table border=\"1\" class=\"dataframe\">\n",
       "  <thead>\n",
       "    <tr style=\"text-align: right;\">\n",
       "      <th></th>\n",
       "      <th>id</th>\n",
       "      <th>character_1</th>\n",
       "      <th>character_2</th>\n",
       "      <th>character_3</th>\n",
       "      <th>character_4</th>\n",
       "      <th>character_5</th>\n",
       "      <th>name_1</th>\n",
       "      <th>name_2</th>\n",
       "      <th>name_3</th>\n",
       "      <th>name_4</th>\n",
       "      <th>name_5</th>\n",
       "    </tr>\n",
       "  </thead>\n",
       "  <tbody>\n",
       "    <tr>\n",
       "      <th>0</th>\n",
       "      <td>2</td>\n",
       "      <td>Taisto Olavi Kasurinen</td>\n",
       "      <td>Irmeli Katariina Pihlaja</td>\n",
       "      <td>Mikkonen</td>\n",
       "      <td>Riku</td>\n",
       "      <td>NaN</td>\n",
       "      <td>Turo Pajala</td>\n",
       "      <td>Susanna Haavisto</td>\n",
       "      <td>Matti Pellonpää</td>\n",
       "      <td>Eetu Hilkamo</td>\n",
       "      <td>NaN</td>\n",
       "    </tr>\n",
       "    <tr>\n",
       "      <th>1</th>\n",
       "      <td>3</td>\n",
       "      <td>Nikander</td>\n",
       "      <td>Ilona Rajamäki</td>\n",
       "      <td>Melartin</td>\n",
       "      <td>Co-worker</td>\n",
       "      <td>Ilona's Girlfriend</td>\n",
       "      <td>Matti Pellonpää</td>\n",
       "      <td>Kati Outinen</td>\n",
       "      <td>Sakari Kuosmanen</td>\n",
       "      <td>Esko Nikkari</td>\n",
       "      <td>Kylli Köngäs</td>\n",
       "    </tr>\n",
       "    <tr>\n",
       "      <th>2</th>\n",
       "      <td>5</td>\n",
       "      <td>Ted the Bellhop</td>\n",
       "      <td>Man</td>\n",
       "      <td>Angela</td>\n",
       "      <td>Elspeth</td>\n",
       "      <td>Margaret</td>\n",
       "      <td>Tim Roth</td>\n",
       "      <td>Antonio Banderas</td>\n",
       "      <td>Jennifer Beals</td>\n",
       "      <td>Madonna</td>\n",
       "      <td>Marisa Tomei</td>\n",
       "    </tr>\n",
       "    <tr>\n",
       "      <th>3</th>\n",
       "      <td>6</td>\n",
       "      <td>Frank Wyatt</td>\n",
       "      <td>Mike Peterson</td>\n",
       "      <td>Fallon</td>\n",
       "      <td>Ray Cochran</td>\n",
       "      <td>Sykes</td>\n",
       "      <td>Emilio Estevez</td>\n",
       "      <td>Cuba Gooding Jr.</td>\n",
       "      <td>Denis Leary</td>\n",
       "      <td>Jeremy Piven</td>\n",
       "      <td>Peter Greene</td>\n",
       "    </tr>\n",
       "    <tr>\n",
       "      <th>4</th>\n",
       "      <td>11</td>\n",
       "      <td>Luke Skywalker</td>\n",
       "      <td>Han Solo</td>\n",
       "      <td>Princess Leia Organa</td>\n",
       "      <td>Grand Moff Tarkin</td>\n",
       "      <td>Obi-Wan \"Ben\" Kenobi</td>\n",
       "      <td>Mark Hamill</td>\n",
       "      <td>Harrison Ford</td>\n",
       "      <td>Carrie Fisher</td>\n",
       "      <td>Peter Cushing</td>\n",
       "      <td>Alec Guinness</td>\n",
       "    </tr>\n",
       "  </tbody>\n",
       "</table>\n",
       "</div>"
      ],
      "text/plain": [
       "   id             character_1               character_2           character_3  \\\n",
       "0   2  Taisto Olavi Kasurinen  Irmeli Katariina Pihlaja              Mikkonen   \n",
       "1   3                Nikander            Ilona Rajamäki              Melartin   \n",
       "2   5         Ted the Bellhop                       Man                Angela   \n",
       "3   6             Frank Wyatt             Mike Peterson                Fallon   \n",
       "4  11          Luke Skywalker                  Han Solo  Princess Leia Organa   \n",
       "\n",
       "         character_4           character_5           name_1            name_2  \\\n",
       "0               Riku                   NaN      Turo Pajala  Susanna Haavisto   \n",
       "1          Co-worker    Ilona's Girlfriend  Matti Pellonpää      Kati Outinen   \n",
       "2            Elspeth              Margaret         Tim Roth  Antonio Banderas   \n",
       "3        Ray Cochran                 Sykes   Emilio Estevez  Cuba Gooding Jr.   \n",
       "4  Grand Moff Tarkin  Obi-Wan \"Ben\" Kenobi      Mark Hamill     Harrison Ford   \n",
       "\n",
       "             name_3         name_4         name_5  \n",
       "0   Matti Pellonpää   Eetu Hilkamo            NaN  \n",
       "1  Sakari Kuosmanen   Esko Nikkari   Kylli Köngäs  \n",
       "2    Jennifer Beals        Madonna   Marisa Tomei  \n",
       "3       Denis Leary   Jeremy Piven   Peter Greene  \n",
       "4     Carrie Fisher  Peter Cushing  Alec Guinness  "
      ]
     },
     "execution_count": 162,
     "metadata": {},
     "output_type": "execute_result"
    }
   ],
   "source": [
    "df_cast.head()"
   ]
  },
  {
   "cell_type": "code",
   "execution_count": 163,
   "metadata": {},
   "outputs": [
    {
     "data": {
      "text/plain": [
       "(43018, 11)"
      ]
     },
     "execution_count": 163,
     "metadata": {},
     "output_type": "execute_result"
    }
   ],
   "source": [
    "df_cast.shape"
   ]
  },
  {
   "cell_type": "code",
   "execution_count": 164,
   "metadata": {},
   "outputs": [
    {
     "name": "stdout",
     "output_type": "stream",
     "text": [
      "El DataFrame utiliza aproximadamente 28.26 MB de memoria.\n"
     ]
    }
   ],
   "source": [
    "# Calcular el uso de memoria del DataFrame en bytes\n",
    "uso_memoria = df_cast.memory_usage(deep=True).sum()\n",
    "\n",
    "# Convertir el uso de memoria a megabytes\n",
    "uso_memoria_mb = uso_memoria / (1024 * 1024)\n",
    "\n",
    "print(f\"El DataFrame utiliza aproximadamente {uso_memoria_mb:.2f} MB de memoria.\")\n"
   ]
  }
 ],
 "metadata": {
  "kernelspec": {
   "display_name": "Python 3",
   "language": "python",
   "name": "python3"
  },
  "language_info": {
   "codemirror_mode": {
    "name": "ipython",
    "version": 3
   },
   "file_extension": ".py",
   "mimetype": "text/x-python",
   "name": "python",
   "nbconvert_exporter": "python",
   "pygments_lexer": "ipython3",
   "version": "3.10.11"
  }
 },
 "nbformat": 4,
 "nbformat_minor": 2
}
